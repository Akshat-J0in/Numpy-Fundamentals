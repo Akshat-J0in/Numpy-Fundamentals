{
 "cells": [
  {
   "cell_type": "markdown",
   "id": "61ac3067",
   "metadata": {
    "papermill": {
     "duration": 0.026627,
     "end_time": "2025-08-27T09:03:00.107100",
     "exception": false,
     "start_time": "2025-08-27T09:03:00.080473",
     "status": "completed"
    },
    "tags": []
   },
   "source": [
    "# **Numpy**\n",
    "* Numerical python is a powerful python library used for data manipulation and scientific calculation.\n",
    "* It provides ndarrays which are faster and more efficient than the lists.\n",
    "* Has built in support for:\n",
    "    1. Linear Algebra\n",
    "    2. Fourier Transform\n",
    "    3. Matrices\n",
    "\n",
    "# **Why Numpy is faster than Lists?**\n",
    "Python List store mixed datatype ([“hello”,1,2.3,True]) so each element is a separate object and stored in scattered memory. Whereas numpy only store one data type in a continues block of memory.\n"
   ]
  },
  {
   "cell_type": "markdown",
   "id": "616e1008",
   "metadata": {
    "papermill": {
     "duration": 0.021367,
     "end_time": "2025-08-27T09:03:00.152651",
     "exception": false,
     "start_time": "2025-08-27T09:03:00.131284",
     "status": "completed"
    },
    "tags": []
   },
   "source": [
    "# Step 1: Is to install the library of numpy as shown below:\n",
    "* ***pip*** is the default manager for python. It is used to install, upgrade, and manage external libraries and dependencies that are not part of the python standard library.\n",
    "* Why do we add '!' before pip in python??\n",
    "  This dependes on where we are using python:\n",
    "  1. In a terminal (Command Prompt / PowerShell / bash) you just type:\n",
    "  >  *pip install numpy*\n",
    "  2. when you write a code in jupyter notebook or collab notebook, adding '!' tells the notebok to run the command as a shell command. Since pip is a shell command hence we wrote the code line with '!'"
   ]
  },
  {
   "cell_type": "code",
   "execution_count": 1,
   "id": "f6b1bdea",
   "metadata": {
    "collapsed": true,
    "execution": {
     "iopub.execute_input": "2025-08-27T09:03:00.197608Z",
     "iopub.status.busy": "2025-08-27T09:03:00.197318Z",
     "iopub.status.idle": "2025-08-27T09:03:04.995639Z",
     "shell.execute_reply": "2025-08-27T09:03:04.994351Z"
    },
    "jupyter": {
     "outputs_hidden": true
    },
    "papermill": {
     "duration": 4.8238,
     "end_time": "2025-08-27T09:03:04.998223",
     "exception": false,
     "start_time": "2025-08-27T09:03:00.174423",
     "status": "completed"
    },
    "tags": []
   },
   "outputs": [
    {
     "name": "stdout",
     "output_type": "stream",
     "text": [
      "Requirement already satisfied: numpy in /usr/local/lib/python3.11/dist-packages (1.26.4)\r\n",
      "Requirement already satisfied: mkl_fft in /usr/local/lib/python3.11/dist-packages (from numpy) (1.3.8)\r\n",
      "Requirement already satisfied: mkl_random in /usr/local/lib/python3.11/dist-packages (from numpy) (1.2.4)\r\n",
      "Requirement already satisfied: mkl_umath in /usr/local/lib/python3.11/dist-packages (from numpy) (0.1.1)\r\n",
      "Requirement already satisfied: mkl in /usr/local/lib/python3.11/dist-packages (from numpy) (2025.2.0)\r\n",
      "Requirement already satisfied: tbb4py in /usr/local/lib/python3.11/dist-packages (from numpy) (2022.2.0)\r\n",
      "Requirement already satisfied: mkl-service in /usr/local/lib/python3.11/dist-packages (from numpy) (2.4.1)\r\n",
      "Requirement already satisfied: intel-openmp<2026,>=2024 in /usr/local/lib/python3.11/dist-packages (from mkl->numpy) (2024.2.0)\r\n",
      "Requirement already satisfied: tbb==2022.* in /usr/local/lib/python3.11/dist-packages (from mkl->numpy) (2022.2.0)\r\n",
      "Requirement already satisfied: tcmlib==1.* in /usr/local/lib/python3.11/dist-packages (from tbb==2022.*->mkl->numpy) (1.4.0)\r\n",
      "Requirement already satisfied: intel-cmplr-lib-rt in /usr/local/lib/python3.11/dist-packages (from mkl_umath->numpy) (2024.2.0)\r\n",
      "Requirement already satisfied: intel-cmplr-lib-ur==2024.2.0 in /usr/local/lib/python3.11/dist-packages (from intel-openmp<2026,>=2024->mkl->numpy) (2024.2.0)\r\n"
     ]
    }
   ],
   "source": [
    "!pip install numpy"
   ]
  },
  {
   "cell_type": "markdown",
   "id": "fa700da9",
   "metadata": {
    "papermill": {
     "duration": 0.021645,
     "end_time": "2025-08-27T09:03:05.042701",
     "exception": false,
     "start_time": "2025-08-27T09:03:05.021056",
     "status": "completed"
    },
    "tags": []
   },
   "source": [
    "# Step 2: Importing the Numpy\n",
    "* *import numpy* loads the library\n",
    "* *as np* is the alias for the library name. So instead of writing *numpy.array() or numpy.mean()* we can write *np.array() or np.mean()* this is not compulsory its just the convention that everyone follows. "
   ]
  },
  {
   "cell_type": "code",
   "execution_count": 2,
   "id": "1b926d41",
   "metadata": {
    "execution": {
     "iopub.execute_input": "2025-08-27T09:03:05.088785Z",
     "iopub.status.busy": "2025-08-27T09:03:05.088409Z",
     "iopub.status.idle": "2025-08-27T09:03:05.093253Z",
     "shell.execute_reply": "2025-08-27T09:03:05.092520Z"
    },
    "papermill": {
     "duration": 0.029492,
     "end_time": "2025-08-27T09:03:05.094585",
     "exception": false,
     "start_time": "2025-08-27T09:03:05.065093",
     "status": "completed"
    },
    "tags": []
   },
   "outputs": [],
   "source": [
    "import numpy as np"
   ]
  },
  {
   "cell_type": "markdown",
   "id": "c00eb4cb",
   "metadata": {
    "papermill": {
     "duration": 0.022413,
     "end_time": "2025-08-27T09:03:05.139236",
     "exception": false,
     "start_time": "2025-08-27T09:03:05.116823",
     "status": "completed"
    },
    "tags": []
   },
   "source": [
    "# Version Number of python library\n",
    "* the code written below shows the version number of the numpy liberary which is '1.26.4'. this is helpful for debugging, compatibility and collaboration.\n",
    "  1. Compatibility: Some functions only work in newer versions of numpy. so checking version helps you findout if you need update.\n",
    "  2. collaboration: when sharing a project you may sometime come across with \"*The project requires numpy version >= 1.20*\"\n",
    "  3. Debugging: If you come across errors like \"*AttributeError: module numpy has no attribute 'xyz', it may be because of numpy version*\"\n",
    "* \"*__version__*\" is a special attribute which is defined inside most of the py libraries to tell us which version of the library we are using.\n"
   ]
  },
  {
   "cell_type": "code",
   "execution_count": 3,
   "id": "b72af424",
   "metadata": {
    "execution": {
     "iopub.execute_input": "2025-08-27T09:03:05.184406Z",
     "iopub.status.busy": "2025-08-27T09:03:05.184029Z",
     "iopub.status.idle": "2025-08-27T09:03:05.188977Z",
     "shell.execute_reply": "2025-08-27T09:03:05.187913Z"
    },
    "papermill": {
     "duration": 0.029487,
     "end_time": "2025-08-27T09:03:05.190454",
     "exception": false,
     "start_time": "2025-08-27T09:03:05.160967",
     "status": "completed"
    },
    "tags": []
   },
   "outputs": [
    {
     "name": "stdout",
     "output_type": "stream",
     "text": [
      "1.26.4\n"
     ]
    }
   ],
   "source": [
    "print(np.__version__)"
   ]
  },
  {
   "cell_type": "markdown",
   "id": "18459d25",
   "metadata": {
    "papermill": {
     "duration": 0.02208,
     "end_time": "2025-08-27T09:03:05.298537",
     "exception": false,
     "start_time": "2025-08-27T09:03:05.276457",
     "status": "completed"
    },
    "tags": []
   },
   "source": [
    "# Creating a Numpy array:\n",
    "* To create a numpy array we use *np.array()*. This helps create a numpy array from the python list.\n",
    "* Numpy array are more powerful than lists because they store data in contiguous memory and allow vectorized operations and support multi-dimensional data.\n",
    "* the code *type(arr)* shown below gives the data type(class) of the arr which is *numpy.ndarray* ndarray stands for **N-DIMENSIONAL ARRAY**(Numpy's main data structure)"
   ]
  },
  {
   "cell_type": "code",
   "execution_count": 4,
   "id": "4cf3fbee",
   "metadata": {
    "collapsed": true,
    "execution": {
     "iopub.execute_input": "2025-08-27T09:03:05.345845Z",
     "iopub.status.busy": "2025-08-27T09:03:05.344993Z",
     "iopub.status.idle": "2025-08-27T09:03:05.351741Z",
     "shell.execute_reply": "2025-08-27T09:03:05.351011Z"
    },
    "jupyter": {
     "outputs_hidden": true
    },
    "papermill": {
     "duration": 0.031752,
     "end_time": "2025-08-27T09:03:05.353291",
     "exception": false,
     "start_time": "2025-08-27T09:03:05.321539",
     "status": "completed"
    },
    "tags": []
   },
   "outputs": [
    {
     "name": "stdout",
     "output_type": "stream",
     "text": [
      "[12 13 20 21 30 31]\n",
      "<class 'numpy.ndarray'>\n",
      "[1, 2, 3, 4, 5]\n",
      "<class 'list'>\n"
     ]
    }
   ],
   "source": [
    "arr = np.array([12,13,20,21,30,31])\n",
    "print(arr)\n",
    "print(type(arr))\n",
    "\n",
    "newarr = [1,2,3,4,5]\n",
    "print(newarr)\n",
    "print(type(newarr))"
   ]
  },
  {
   "cell_type": "markdown",
   "id": "f30b6ddf",
   "metadata": {
    "papermill": {
     "duration": 0.021919,
     "end_time": "2025-08-27T09:03:05.397351",
     "exception": false,
     "start_time": "2025-08-27T09:03:05.375432",
     "status": "completed"
    },
    "tags": []
   },
   "source": [
    "If you notice in the above code that when we print list, the values in **list** are seperated by  *','*  and in **ndarray** there is no  *','*  to seperate the values. \n",
    "this one of the difference between the list and ndarray"
   ]
  },
  {
   "cell_type": "markdown",
   "id": "08dba1c5",
   "metadata": {
    "papermill": {
     "duration": 0.022467,
     "end_time": "2025-08-27T09:03:05.442107",
     "exception": false,
     "start_time": "2025-08-27T09:03:05.419640",
     "status": "completed"
    },
    "tags": []
   },
   "source": [
    "# Different ways to create a Numpy array\n",
    "* As shown in the above code we can create a ndarray using **list**.\n",
    "  > *np.array([])*\n",
    "* We can create a ndarray using **tuples** as well as shown below\n",
    "  > *np.array(())*\n",
    "* we can use other methods as well to create a ndarray like:\n",
    "  1. np.zeros()\n",
    "  2. np.full()\n",
    "  3. np.ones()\n",
    "  4. np.arrange()\n",
    "  5. np.linespace()\n",
    "  6. np.random.rand()\n",
    "  7. np.eye() and many more which we will discuss below one by one"
   ]
  },
  {
   "cell_type": "code",
   "execution_count": 5,
   "id": "efdc96f8",
   "metadata": {
    "collapsed": true,
    "execution": {
     "iopub.execute_input": "2025-08-27T09:03:05.488566Z",
     "iopub.status.busy": "2025-08-27T09:03:05.488264Z",
     "iopub.status.idle": "2025-08-27T09:03:05.493505Z",
     "shell.execute_reply": "2025-08-27T09:03:05.492429Z"
    },
    "jupyter": {
     "outputs_hidden": true
    },
    "papermill": {
     "duration": 0.030908,
     "end_time": "2025-08-27T09:03:05.495227",
     "exception": false,
     "start_time": "2025-08-27T09:03:05.464319",
     "status": "completed"
    },
    "tags": []
   },
   "outputs": [
    {
     "name": "stdout",
     "output_type": "stream",
     "text": [
      "[1 2 3 4 5 6]\n"
     ]
    }
   ],
   "source": [
    "arr = np.array((1,2,3,4,5,6))\n",
    "print(arr)"
   ]
  },
  {
   "attachments": {
    "e4ca0ea7-781b-4235-93ea-5ba58193548f.jpeg": {
     "image/jpeg": "[encoded data removed]"
    }
   },
   "cell_type": "markdown",
   "id": "2552ca75",
   "metadata": {
    "papermill": {
     "duration": 0.02201,
     "end_time": "2025-08-27T09:03:05.540095",
     "exception": false,
     "start_time": "2025-08-27T09:03:05.518085",
     "status": "completed"
    },
    "tags": []
   },
   "source": [
    "**arange()**\n",
    "* *np.arange()* returns numpy array containing evenly spaced values within a given range. It is similar to *range()* but instead of giving an iterator it gives you numpy array\n",
    "* the syntax for this is:\n",
    "   > *np.arange([start],stop,[step],dtype=None)*\n",
    "   1. here start is a optional parameter and the default value is 0. It defines the first element of the array\n",
    "   2. stop is a required parameter that is we have to specify the end value\n",
    "   3. step is a optional parameter and the default value is 1. it defines the spacing between values\n",
    "   4. dtype is also a optional parameter where the default value is none. It helps us define the type of array we want like int,float\n",
    "* the difference between *range()* and *np.arange()* is shown below:\n",
    "  ![WhatsApp Image 2025-08-24 at 17.24.43.jpeg](attachment:e4ca0ea7-781b-4235-93ea-5ba58193548f.jpeg)"
   ]
  },
  {
   "cell_type": "code",
   "execution_count": 6,
   "id": "e4a46515",
   "metadata": {
    "execution": {
     "iopub.execute_input": "2025-08-27T09:03:05.586099Z",
     "iopub.status.busy": "2025-08-27T09:03:05.585774Z",
     "iopub.status.idle": "2025-08-27T09:03:05.591057Z",
     "shell.execute_reply": "2025-08-27T09:03:05.589993Z"
    },
    "papermill": {
     "duration": 0.030152,
     "end_time": "2025-08-27T09:03:05.592566",
     "exception": false,
     "start_time": "2025-08-27T09:03:05.562414",
     "status": "completed"
    },
    "tags": []
   },
   "outputs": [
    {
     "name": "stdout",
     "output_type": "stream",
     "text": [
      "[0 1 2 3 4]\n"
     ]
    }
   ],
   "source": [
    "#here we will only use stop parameter\n",
    "arr = np.arange(5)\n",
    "print(arr)"
   ]
  },
  {
   "cell_type": "code",
   "execution_count": 7,
   "id": "898fb3d2",
   "metadata": {
    "collapsed": true,
    "execution": {
     "iopub.execute_input": "2025-08-27T09:03:05.639436Z",
     "iopub.status.busy": "2025-08-27T09:03:05.638723Z",
     "iopub.status.idle": "2025-08-27T09:03:05.643966Z",
     "shell.execute_reply": "2025-08-27T09:03:05.643044Z"
    },
    "jupyter": {
     "outputs_hidden": true
    },
    "papermill": {
     "duration": 0.030123,
     "end_time": "2025-08-27T09:03:05.645296",
     "exception": false,
     "start_time": "2025-08-27T09:03:05.615173",
     "status": "completed"
    },
    "tags": []
   },
   "outputs": [
    {
     "name": "stdout",
     "output_type": "stream",
     "text": [
      "[1 3 5 7 9]\n",
      "<class 'numpy.ndarray'>\n"
     ]
    }
   ],
   "source": [
    "#here we have specified that the range of the array will be from 1 to 10 and the spacing will be 2 \n",
    "#that is we will print the second elements until the stop parameter.\n",
    "arr = np.arange(1,10,2)\n",
    "print(arr)\n",
    "print(type(arr))"
   ]
  },
  {
   "cell_type": "code",
   "execution_count": 8,
   "id": "21d57095",
   "metadata": {
    "collapsed": true,
    "execution": {
     "iopub.execute_input": "2025-08-27T09:03:05.692184Z",
     "iopub.status.busy": "2025-08-27T09:03:05.691846Z",
     "iopub.status.idle": "2025-08-27T09:03:05.697595Z",
     "shell.execute_reply": "2025-08-27T09:03:05.696557Z"
    },
    "jupyter": {
     "outputs_hidden": true
    },
    "papermill": {
     "duration": 0.030902,
     "end_time": "2025-08-27T09:03:05.699204",
     "exception": false,
     "start_time": "2025-08-27T09:03:05.668302",
     "status": "completed"
    },
    "tags": []
   },
   "outputs": [
    {
     "name": "stdout",
     "output_type": "stream",
     "text": [
      "[1. 2. 3. 4. 5. 6. 7. 8. 9.]\n"
     ]
    }
   ],
   "source": [
    "#here we have mentioned that we want float data type in our array so we will get the array accordingly\n",
    "arr = np.arange(1,10,dtype=float)\n",
    "print(arr)"
   ]
  },
  {
   "attachments": {
    "e378b41c-b91a-42b0-8fbc-f8f3cde4a6c0.png": {
     "image/png": "[encoded data removed]"
    }
   },
   "cell_type": "markdown",
   "id": "9b1bd830",
   "metadata": {
    "papermill": {
     "duration": 0.022481,
     "end_time": "2025-08-27T09:03:05.744735",
     "exception": false,
     "start_time": "2025-08-27T09:03:05.722254",
     "status": "completed"
    },
    "tags": []
   },
   "source": [
    "**linspace()**\n",
    "* returns evenly spaced numbers over a specified interval.\n",
    "* *np.arange()* uses step size and *linspace()* is based on number of points you want between two values.\n",
    "* syntax for this is:\n",
    "  > *np.linspace(start,stop,num=50,endpoint=True,retstep=False,dtype=None)*\n",
    "  1. start: the starting value of sequence and this parameter is required\n",
    "  2. stop: the end value of the sequence and this parameter is required\n",
    "  3. num: number of values to generate and the default value is 50\n",
    "  4. endpoint: if true then it includes the stop value. If false then does not include the stop value\n",
    "  5. retstep: if true then returns the step size between values\n",
    "  6. dtype: specify the data type\n",
    "* The key difference between the arange() and linspace() is shown below:\n",
    "  ![image.png](attachment:e378b41c-b91a-42b0-8fbc-f8f3cde4a6c0.png)"
   ]
  },
  {
   "cell_type": "code",
   "execution_count": 9,
   "id": "68b614e3",
   "metadata": {
    "collapsed": true,
    "execution": {
     "iopub.execute_input": "2025-08-27T09:03:05.790946Z",
     "iopub.status.busy": "2025-08-27T09:03:05.790629Z",
     "iopub.status.idle": "2025-08-27T09:03:05.796423Z",
     "shell.execute_reply": "2025-08-27T09:03:05.795330Z"
    },
    "jupyter": {
     "outputs_hidden": true
    },
    "papermill": {
     "duration": 0.030299,
     "end_time": "2025-08-27T09:03:05.797990",
     "exception": false,
     "start_time": "2025-08-27T09:03:05.767691",
     "status": "completed"
    },
    "tags": []
   },
   "outputs": [
    {
     "name": "stdout",
     "output_type": "stream",
     "text": [
      "[ 0.          0.20408163  0.40816327  0.6122449   0.81632653  1.02040816\n",
      "  1.2244898   1.42857143  1.63265306  1.83673469  2.04081633  2.24489796\n",
      "  2.44897959  2.65306122  2.85714286  3.06122449  3.26530612  3.46938776\n",
      "  3.67346939  3.87755102  4.08163265  4.28571429  4.48979592  4.69387755\n",
      "  4.89795918  5.10204082  5.30612245  5.51020408  5.71428571  5.91836735\n",
      "  6.12244898  6.32653061  6.53061224  6.73469388  6.93877551  7.14285714\n",
      "  7.34693878  7.55102041  7.75510204  7.95918367  8.16326531  8.36734694\n",
      "  8.57142857  8.7755102   8.97959184  9.18367347  9.3877551   9.59183673\n",
      "  9.79591837 10.        ]\n"
     ]
    }
   ],
   "source": [
    "# here the num is not mentioned so it will take the default values that is 50 and print 50 values.\n",
    "# you can say that the endpoint is 10 and we need equal 50 points so the value will be 0 and increased by 0.2\n",
    "arr = np.linspace(0,10)\n",
    "print(arr)"
   ]
  },
  {
   "cell_type": "code",
   "execution_count": 10,
   "id": "1282c847",
   "metadata": {
    "collapsed": true,
    "execution": {
     "iopub.execute_input": "2025-08-27T09:03:05.843841Z",
     "iopub.status.busy": "2025-08-27T09:03:05.843562Z",
     "iopub.status.idle": "2025-08-27T09:03:05.848813Z",
     "shell.execute_reply": "2025-08-27T09:03:05.847928Z"
    },
    "jupyter": {
     "outputs_hidden": true
    },
    "papermill": {
     "duration": 0.030029,
     "end_time": "2025-08-27T09:03:05.850296",
     "exception": false,
     "start_time": "2025-08-27T09:03:05.820267",
     "status": "completed"
    },
    "tags": []
   },
   "outputs": [
    {
     "name": "stdout",
     "output_type": "stream",
     "text": [
      "[ 0.   2.5  5.   7.5 10. ]\n"
     ]
    }
   ],
   "source": [
    "# now here we have mentioned that we need 5 equal values between 0 to 10.\n",
    "arr = np.linspace(0,10,5)\n",
    "print(arr)"
   ]
  },
  {
   "cell_type": "code",
   "execution_count": 11,
   "id": "dd078e6e",
   "metadata": {
    "collapsed": true,
    "execution": {
     "iopub.execute_input": "2025-08-27T09:03:05.896742Z",
     "iopub.status.busy": "2025-08-27T09:03:05.896433Z",
     "iopub.status.idle": "2025-08-27T09:03:05.901897Z",
     "shell.execute_reply": "2025-08-27T09:03:05.900779Z"
    },
    "jupyter": {
     "outputs_hidden": true
    },
    "papermill": {
     "duration": 0.030503,
     "end_time": "2025-08-27T09:03:05.903500",
     "exception": false,
     "start_time": "2025-08-27T09:03:05.872997",
     "status": "completed"
    },
    "tags": []
   },
   "outputs": [
    {
     "name": "stdout",
     "output_type": "stream",
     "text": [
      "[0. 2. 4. 6. 8.]\n"
     ]
    }
   ],
   "source": [
    "# now in the above codes the endpoint values were always true. so they were included\n",
    "# now we will put the endpoint = false so the end point values will be excluded\n",
    "arr = np.linspace(0,10,5,endpoint=False)\n",
    "print(arr)"
   ]
  },
  {
   "cell_type": "code",
   "execution_count": 12,
   "id": "14000c40",
   "metadata": {
    "collapsed": true,
    "execution": {
     "iopub.execute_input": "2025-08-27T09:03:05.951992Z",
     "iopub.status.busy": "2025-08-27T09:03:05.951655Z",
     "iopub.status.idle": "2025-08-27T09:03:05.957561Z",
     "shell.execute_reply": "2025-08-27T09:03:05.956487Z"
    },
    "jupyter": {
     "outputs_hidden": true
    },
    "papermill": {
     "duration": 0.032404,
     "end_time": "2025-08-27T09:03:05.959085",
     "exception": false,
     "start_time": "2025-08-27T09:03:05.926681",
     "status": "completed"
    },
    "tags": []
   },
   "outputs": [
    {
     "name": "stdout",
     "output_type": "stream",
     "text": [
      "[0. 2. 4. 6. 8.]\n",
      "5\n",
      "the step size is 2.0\n"
     ]
    }
   ],
   "source": [
    "# now if you want to print the step size then you can store that in a variable and print it.\n",
    "# you just need to make the retstep = True\n",
    "arr, step_size = np.linspace(0,10,5,endpoint=False,retstep=True)\n",
    "print(arr)\n",
    "print(arr.size)\n",
    "print(f\"the step size is {step_size}\")"
   ]
  },
  {
   "cell_type": "code",
   "execution_count": 13,
   "id": "9d5a3c7f",
   "metadata": {
    "execution": {
     "iopub.execute_input": "2025-08-27T09:03:06.009695Z",
     "iopub.status.busy": "2025-08-27T09:03:06.009343Z",
     "iopub.status.idle": "2025-08-27T09:03:06.014287Z",
     "shell.execute_reply": "2025-08-27T09:03:06.013397Z"
    },
    "papermill": {
     "duration": 0.033185,
     "end_time": "2025-08-27T09:03:06.015742",
     "exception": false,
     "start_time": "2025-08-27T09:03:05.982557",
     "status": "completed"
    },
    "tags": []
   },
   "outputs": [
    {
     "name": "stdout",
     "output_type": "stream",
     "text": [
      "[0 1 2 3 4 5]\n"
     ]
    }
   ],
   "source": [
    "# here in this code we have added the dtype so that we dont get the float values\n",
    "newarr = np.linspace(0,5,6,dtype=int)\n",
    "print(newarr)"
   ]
  },
  {
   "cell_type": "markdown",
   "id": "cd974f7e",
   "metadata": {
    "papermill": {
     "duration": 0.022393,
     "end_time": "2025-08-27T09:03:06.062303",
     "exception": false,
     "start_time": "2025-08-27T09:03:06.039910",
     "status": "completed"
    },
    "tags": []
   },
   "source": [
    "# Dimensions in Numpy Arrays\n",
    "* In numpy the number of dimensions is called the rank of the array\n",
    "* different types of dimensions are:\n",
    "  1. **0D array** = this type of array is scalar that is contians a single number\n",
    "  2. **1D array** = this type of array is vector similar to a list and has list of numbers\n",
    "  3. **2D array** = this type of array forms matrix that is rows x columns\n",
    "  4. **3D array** = this type of array forms tensor and is like a cube or a stacked matrics\n",
    "  5. **Higher dimension array** = this we will discuss later"
   ]
  },
  {
   "cell_type": "code",
   "execution_count": 14,
   "id": "144e9bab",
   "metadata": {
    "collapsed": true,
    "execution": {
     "iopub.execute_input": "2025-08-27T09:03:06.109303Z",
     "iopub.status.busy": "2025-08-27T09:03:06.109019Z",
     "iopub.status.idle": "2025-08-27T09:03:06.113740Z",
     "shell.execute_reply": "2025-08-27T09:03:06.112933Z"
    },
    "jupyter": {
     "outputs_hidden": true
    },
    "papermill": {
     "duration": 0.030126,
     "end_time": "2025-08-27T09:03:06.115133",
     "exception": false,
     "start_time": "2025-08-27T09:03:06.085007",
     "status": "completed"
    },
    "tags": []
   },
   "outputs": [
    {
     "name": "stdout",
     "output_type": "stream",
     "text": [
      "10\n"
     ]
    }
   ],
   "source": [
    "# this is the example of 0D array where this will return only 1 value\n",
    "arr = np.array('10')\n",
    "print(arr)"
   ]
  },
  {
   "cell_type": "code",
   "execution_count": 15,
   "id": "86d18732",
   "metadata": {
    "collapsed": true,
    "execution": {
     "iopub.execute_input": "2025-08-27T09:03:06.161560Z",
     "iopub.status.busy": "2025-08-27T09:03:06.160822Z",
     "iopub.status.idle": "2025-08-27T09:03:06.166096Z",
     "shell.execute_reply": "2025-08-27T09:03:06.165133Z"
    },
    "jupyter": {
     "outputs_hidden": true
    },
    "papermill": {
     "duration": 0.029985,
     "end_time": "2025-08-27T09:03:06.167476",
     "exception": false,
     "start_time": "2025-08-27T09:03:06.137491",
     "status": "completed"
    },
    "tags": []
   },
   "outputs": [
    {
     "name": "stdout",
     "output_type": "stream",
     "text": [
      "[1 2 3 4 5]\n"
     ]
    }
   ],
   "source": [
    "# this is the example of 1D array where this will return list of numbers\n",
    "arr = np.array([1,2,3,4,5])\n",
    "print(arr)"
   ]
  },
  {
   "cell_type": "code",
   "execution_count": 16,
   "id": "616696ef",
   "metadata": {
    "collapsed": true,
    "execution": {
     "iopub.execute_input": "2025-08-27T09:03:06.214175Z",
     "iopub.status.busy": "2025-08-27T09:03:06.213846Z",
     "iopub.status.idle": "2025-08-27T09:03:06.218865Z",
     "shell.execute_reply": "2025-08-27T09:03:06.217975Z"
    },
    "jupyter": {
     "outputs_hidden": true
    },
    "papermill": {
     "duration": 0.030118,
     "end_time": "2025-08-27T09:03:06.220257",
     "exception": false,
     "start_time": "2025-08-27T09:03:06.190139",
     "status": "completed"
    },
    "tags": []
   },
   "outputs": [
    {
     "name": "stdout",
     "output_type": "stream",
     "text": [
      "[[10 20 30]\n",
      " [40 50 60]]\n"
     ]
    }
   ],
   "source": [
    "# this is the example of 2D array and it will return a matrix\n",
    "arr = np.array([[10,20,30],[40,50,60]])\n",
    "print(arr)"
   ]
  },
  {
   "cell_type": "code",
   "execution_count": 17,
   "id": "ca5f995d",
   "metadata": {
    "collapsed": true,
    "execution": {
     "iopub.execute_input": "2025-08-27T09:03:06.267864Z",
     "iopub.status.busy": "2025-08-27T09:03:06.267589Z",
     "iopub.status.idle": "2025-08-27T09:03:06.273089Z",
     "shell.execute_reply": "2025-08-27T09:03:06.272145Z"
    },
    "jupyter": {
     "outputs_hidden": true
    },
    "papermill": {
     "duration": 0.030936,
     "end_time": "2025-08-27T09:03:06.274486",
     "exception": false,
     "start_time": "2025-08-27T09:03:06.243550",
     "status": "completed"
    },
    "tags": []
   },
   "outputs": [
    {
     "name": "stdout",
     "output_type": "stream",
     "text": [
      "[[[10 20 30]\n",
      "  [40 50 60]]\n",
      "\n",
      " [[10 20 30]\n",
      "  [40 50 60]]]\n"
     ]
    }
   ],
   "source": [
    "arr = np.array([[[10,20,30],[40,50,60]], [[10,20,30],[40,50,60]]])\n",
    "print(arr)"
   ]
  },
  {
   "cell_type": "code",
   "execution_count": 18,
   "id": "5b0ea55d",
   "metadata": {
    "collapsed": true,
    "execution": {
     "iopub.execute_input": "2025-08-27T09:03:06.321601Z",
     "iopub.status.busy": "2025-08-27T09:03:06.320986Z",
     "iopub.status.idle": "2025-08-27T09:03:06.327489Z",
     "shell.execute_reply": "2025-08-27T09:03:06.326556Z"
    },
    "jupyter": {
     "outputs_hidden": true
    },
    "papermill": {
     "duration": 0.031532,
     "end_time": "2025-08-27T09:03:06.328697",
     "exception": false,
     "start_time": "2025-08-27T09:03:06.297165",
     "status": "completed"
    },
    "tags": []
   },
   "outputs": [
    {
     "name": "stdout",
     "output_type": "stream",
     "text": [
      "Number of dimensions in array is 0\n",
      "Number of dimensions in array is 1\n",
      "Number of dimensions in array is 2\n",
      "Number of dimensions in array is 3\n"
     ]
    }
   ],
   "source": [
    "# to see the dimension of the array we can use 'ndim'\n",
    "a = np.array(10)\n",
    "b = np.array([1,2,3,4,5])\n",
    "c = np.array([[10,20,30],[40,50,60]])\n",
    "d = np.array([[[10,20,30],[40,50,60]], [[10,20,30],[40,50,60]]])\n",
    "print(f\"Number of dimensions in array is {a.ndim}\")\n",
    "print(f\"Number of dimensions in array is {b.ndim}\")\n",
    "print(f\"Number of dimensions in array is {c.ndim}\")\n",
    "print(f\"Number of dimensions in array is {d.ndim}\")"
   ]
  },
  {
   "cell_type": "markdown",
   "id": "f0175376",
   "metadata": {
    "papermill": {
     "duration": 0.02281,
     "end_time": "2025-08-27T09:03:06.374608",
     "exception": false,
     "start_time": "2025-08-27T09:03:06.351798",
     "status": "completed"
    },
    "tags": []
   },
   "source": [
    "# Higher Dimensional Array\n",
    "* numpy can create any number of dimension\n",
    "* the number of dimension is given by attribute '.ndim'\n",
    "* the shape of the array is stored in '.shape'"
   ]
  },
  {
   "cell_type": "code",
   "execution_count": 19,
   "id": "8d858ec2",
   "metadata": {
    "collapsed": true,
    "execution": {
     "iopub.execute_input": "2025-08-27T09:03:06.422705Z",
     "iopub.status.busy": "2025-08-27T09:03:06.422214Z",
     "iopub.status.idle": "2025-08-27T09:03:06.428247Z",
     "shell.execute_reply": "2025-08-27T09:03:06.427196Z"
    },
    "jupyter": {
     "outputs_hidden": true
    },
    "papermill": {
     "duration": 0.031977,
     "end_time": "2025-08-27T09:03:06.429753",
     "exception": false,
     "start_time": "2025-08-27T09:03:06.397776",
     "status": "completed"
    },
    "tags": []
   },
   "outputs": [
    {
     "name": "stdout",
     "output_type": "stream",
     "text": [
      "[[[[ 1  2]\n",
      "   [ 3  4]]\n",
      "\n",
      "  [[ 5  6]\n",
      "   [ 7  8]]]\n",
      "\n",
      "\n",
      " [[[ 9 10]\n",
      "   [11 12]]\n",
      "\n",
      "  [[13 14]\n",
      "   [15 16]]]]\n",
      "(2, 2, 2, 2)\n",
      "dimension:  4\n"
     ]
    }
   ],
   "source": [
    "# this is an example of 4-D array where we have created a a array and then looked at it's shape and then the dimension to confirm if we have formed a 4D array or not\n",
    "# the shape parameter (2,2,2,2) says that:\n",
    "# there are 2 blocks like cube and each cube has 2 matrics and each matrics has 2 rows and each row has 2 columns\n",
    "arr = np.array([\n",
    "    [\n",
    "        [[1,2],[3,4]],\n",
    "        [[5,6],[7,8]]\n",
    "    ],\n",
    "    [\n",
    "        [[9,10],[11,12]],\n",
    "        [[13,14],[15,16]]\n",
    "    ]\n",
    "])\n",
    "print(arr)\n",
    "print(arr.shape)\n",
    "print(\"dimension: \",arr.ndim)"
   ]
  },
  {
   "cell_type": "code",
   "execution_count": 20,
   "id": "a5cea80c",
   "metadata": {
    "collapsed": true,
    "execution": {
     "iopub.execute_input": "2025-08-27T09:03:06.477373Z",
     "iopub.status.busy": "2025-08-27T09:03:06.477099Z",
     "iopub.status.idle": "2025-08-27T09:03:06.482164Z",
     "shell.execute_reply": "2025-08-27T09:03:06.481304Z"
    },
    "jupyter": {
     "outputs_hidden": true
    },
    "papermill": {
     "duration": 0.03075,
     "end_time": "2025-08-27T09:03:06.483502",
     "exception": false,
     "start_time": "2025-08-27T09:03:06.452752",
     "status": "completed"
    },
    "tags": []
   },
   "outputs": [
    {
     "name": "stdout",
     "output_type": "stream",
     "text": [
      "[[[[[10 20 30 40 50]]]]]\n",
      "5\n",
      "(1, 1, 1, 1, 5)\n"
     ]
    }
   ],
   "source": [
    "# we can create a higher dimensional array by specifying the 'ndmin'. therefore this help create any dimension of array you want.\n",
    "# the example below is of 5D array\n",
    "arr = np.array([10,20,30,40,50], ndmin=5)\n",
    "print(arr)\n",
    "print(arr.ndim)\n",
    "print(arr.shape)"
   ]
  },
  {
   "cell_type": "code",
   "execution_count": 21,
   "id": "e74029c6",
   "metadata": {
    "collapsed": true,
    "execution": {
     "iopub.execute_input": "2025-08-27T09:03:06.532229Z",
     "iopub.status.busy": "2025-08-27T09:03:06.531408Z",
     "iopub.status.idle": "2025-08-27T09:03:06.536446Z",
     "shell.execute_reply": "2025-08-27T09:03:06.535553Z"
    },
    "jupyter": {
     "outputs_hidden": true
    },
    "papermill": {
     "duration": 0.030223,
     "end_time": "2025-08-27T09:03:06.537646",
     "exception": false,
     "start_time": "2025-08-27T09:03:06.507423",
     "status": "completed"
    },
    "tags": []
   },
   "outputs": [
    {
     "name": "stdout",
     "output_type": "stream",
     "text": [
      "class:  ndarray\n",
      "shape:  (1, 1, 1, 1, 5)\n",
      "strides:  (40, 40, 40, 40, 8)\n",
      "itemsize:  8\n",
      "aligned:  True\n",
      "contiguous:  True\n",
      "fortran:  True\n",
      "data pointer: 0x20a8a1a0\n",
      "byteorder:  little\n",
      "byteswap:  False\n",
      "type: int64\n",
      "None\n"
     ]
    }
   ],
   "source": [
    "# this code hepls provide info about the variable like its shape, size, class\n",
    "print(np.info(arr))"
   ]
  },
  {
   "attachments": {
    "0c209010-a9e8-475a-803f-1c1573e14569.png": {
     "image/png": "[encoded data removed]"
    },
    "3ed32e6c-5c4b-477a-acbc-ba7feb0bd6f7.png": {
     "image/png": "[encoded data removed]"
    },
    "a88a2737-e8e3-4d29-ae4c-e0235acbf31c.png": {
     "image/png": "[encoded data removed]"
    },
    "dc0af416-575f-4144-9eab-095f3ba11e92.png": {
     "image/png": "[encoded data removed]"
    },
    "dc0f03e3-a839-436e-ac8a-fe5abfc07e1e.png": {
     "image/png": "[encoded data removed]"
    },
    "ec446a88-62db-45c8-b71d-a8469c13d87e.png": {
     "image/png": "[encoded data removed]"
    }
   },
   "cell_type": "markdown",
   "id": "54565cb4",
   "metadata": {
    "papermill": {
     "duration": 0.023251,
     "end_time": "2025-08-27T09:03:06.583992",
     "exception": false,
     "start_time": "2025-08-27T09:03:06.560741",
     "status": "completed"
    },
    "tags": []
   },
   "source": [
    "# Random Values\n",
    "* *np.random.rand* generates random number form a range of 0 to 1\n",
    "* every time we call this, it will give different random numbers, **unless you set a seed**.\n",
    "* other method to generate a random number is using *np.random.randn* and the range for this is between -infinity to +infinity. that is the values over here can be negative as well.\n",
    "\n",
    "* **Use Case**\n",
    "  \n",
    "the *rand* function generate uniformly distributed number between 0 to 1. Uniform means [0,1) are equally likely. There is no center that is all values are flatly spread. If we plot them we will get a flat bar across 0-1 range.\n",
    "\n",
    "![image.png](attachment:dc0af416-575f-4144-9eab-095f3ba11e92.png)\n",
    "  \n",
    "  the *randn* funciton forms standard normal distribution. here the mean = 0 that is the number is centered around 0. here the standard deviation = 1. Here the histogram forms bell shaped curve.\n",
    "  \n",
    "![image.png](attachment:ec446a88-62db-45c8-b71d-a8469c13d87e.png)"
   ]
  },
  {
   "cell_type": "code",
   "execution_count": 22,
   "id": "8bf5d667",
   "metadata": {
    "collapsed": true,
    "execution": {
     "iopub.execute_input": "2025-08-27T09:03:06.632508Z",
     "iopub.status.busy": "2025-08-27T09:03:06.631563Z",
     "iopub.status.idle": "2025-08-27T09:03:06.636104Z",
     "shell.execute_reply": "2025-08-27T09:03:06.635383Z"
    },
    "jupyter": {
     "outputs_hidden": true
    },
    "papermill": {
     "duration": 0.030158,
     "end_time": "2025-08-27T09:03:06.637438",
     "exception": false,
     "start_time": "2025-08-27T09:03:06.607280",
     "status": "completed"
    },
    "tags": []
   },
   "outputs": [
    {
     "name": "stdout",
     "output_type": "stream",
     "text": [
      "0.45374996730675843\n"
     ]
    }
   ],
   "source": [
    "# this is the 0D array created by using random.rand\n",
    "print(np.random.rand())"
   ]
  },
  {
   "cell_type": "code",
   "execution_count": 23,
   "id": "6a78f192",
   "metadata": {
    "collapsed": true,
    "execution": {
     "iopub.execute_input": "2025-08-27T09:03:06.685269Z",
     "iopub.status.busy": "2025-08-27T09:03:06.684493Z",
     "iopub.status.idle": "2025-08-27T09:03:06.689529Z",
     "shell.execute_reply": "2025-08-27T09:03:06.688775Z"
    },
    "jupyter": {
     "outputs_hidden": true
    },
    "papermill": {
     "duration": 0.030413,
     "end_time": "2025-08-27T09:03:06.690663",
     "exception": false,
     "start_time": "2025-08-27T09:03:06.660250",
     "status": "completed"
    },
    "tags": []
   },
   "outputs": [
    {
     "name": "stdout",
     "output_type": "stream",
     "text": [
      "[0.2225934  0.7967601  0.38107983 0.19752055 0.29357602]\n"
     ]
    }
   ],
   "source": [
    "# this is the 1D array created by random.rand\n",
    "arr = np.random.rand(5)\n",
    "print(arr)"
   ]
  },
  {
   "cell_type": "code",
   "execution_count": 24,
   "id": "5b1c4c89",
   "metadata": {
    "collapsed": true,
    "execution": {
     "iopub.execute_input": "2025-08-27T09:03:06.737777Z",
     "iopub.status.busy": "2025-08-27T09:03:06.737482Z",
     "iopub.status.idle": "2025-08-27T09:03:06.742842Z",
     "shell.execute_reply": "2025-08-27T09:03:06.741934Z"
    },
    "jupyter": {
     "outputs_hidden": true
    },
    "papermill": {
     "duration": 0.030515,
     "end_time": "2025-08-27T09:03:06.744170",
     "exception": false,
     "start_time": "2025-08-27T09:03:06.713655",
     "status": "completed"
    },
    "tags": []
   },
   "outputs": [
    {
     "name": "stdout",
     "output_type": "stream",
     "text": [
      "[[0.4831434  0.84214127 0.99470282 0.71727362]\n",
      " [0.20837142 0.97527771 0.831982   0.04193143]\n",
      " [0.7335936  0.3931105  0.13725628 0.8941705 ]]\n"
     ]
    }
   ],
   "source": [
    "# this is 2D array created by random.rand where we have 3rows and 4 columns\n",
    "arr = np.random.rand(3,4)\n",
    "print(arr)"
   ]
  },
  {
   "cell_type": "code",
   "execution_count": 25,
   "id": "986a1904",
   "metadata": {
    "collapsed": true,
    "execution": {
     "iopub.execute_input": "2025-08-27T09:03:06.791705Z",
     "iopub.status.busy": "2025-08-27T09:03:06.791416Z",
     "iopub.status.idle": "2025-08-27T09:03:06.797049Z",
     "shell.execute_reply": "2025-08-27T09:03:06.796108Z"
    },
    "jupyter": {
     "outputs_hidden": true
    },
    "papermill": {
     "duration": 0.03137,
     "end_time": "2025-08-27T09:03:06.798647",
     "exception": false,
     "start_time": "2025-08-27T09:03:06.767277",
     "status": "completed"
    },
    "tags": []
   },
   "outputs": [
    {
     "name": "stdout",
     "output_type": "stream",
     "text": [
      "[[[0.02485409 0.54957033 0.31560298 0.71808914]\n",
      "  [0.20643945 0.71577413 0.81635423 0.42309164]\n",
      "  [0.32692028 0.21575937 0.3544494  0.81131819]]\n",
      "\n",
      " [[0.0089383  0.86124797 0.04878977 0.43475394]\n",
      "  [0.65237577 0.64901382 0.40143616 0.96909007]\n",
      "  [0.82470906 0.73150018 0.42060436 0.51007713]]\n",
      "\n",
      " [[0.43879999 0.48858568 0.20133827 0.86114698]\n",
      "  [0.69477797 0.87059975 0.79630655 0.36082761]\n",
      "  [0.5042283  0.8972273  0.04338471 0.98379447]]]\n"
     ]
    }
   ],
   "source": [
    "# 3D array using random.rand where we have 3 sides each having 3 rows and each row have 4 column\n",
    "arr = np.random.rand(3,3,4)\n",
    "print(arr)"
   ]
  },
  {
   "cell_type": "code",
   "execution_count": 26,
   "id": "7666198c",
   "metadata": {
    "collapsed": true,
    "execution": {
     "iopub.execute_input": "2025-08-27T09:03:06.847592Z",
     "iopub.status.busy": "2025-08-27T09:03:06.847284Z",
     "iopub.status.idle": "2025-08-27T09:03:06.852676Z",
     "shell.execute_reply": "2025-08-27T09:03:06.851710Z"
    },
    "jupyter": {
     "outputs_hidden": true
    },
    "papermill": {
     "duration": 0.032453,
     "end_time": "2025-08-27T09:03:06.854131",
     "exception": false,
     "start_time": "2025-08-27T09:03:06.821678",
     "status": "completed"
    },
    "tags": []
   },
   "outputs": [
    {
     "name": "stdout",
     "output_type": "stream",
     "text": [
      "[0.37454012 0.95071431 0.73199394]\n"
     ]
    }
   ],
   "source": [
    "# here once we enter the seed, the random value becomes fixed that is it does not change when you run the code again and again.\n",
    "np.random.seed(42)\n",
    "print(np.random.rand(3))"
   ]
  },
  {
   "cell_type": "code",
   "execution_count": 27,
   "id": "93adf464",
   "metadata": {
    "collapsed": true,
    "execution": {
     "iopub.execute_input": "2025-08-27T09:03:06.902035Z",
     "iopub.status.busy": "2025-08-27T09:03:06.901562Z",
     "iopub.status.idle": "2025-08-27T09:03:06.906183Z",
     "shell.execute_reply": "2025-08-27T09:03:06.905473Z"
    },
    "jupyter": {
     "outputs_hidden": true
    },
    "papermill": {
     "duration": 0.030029,
     "end_time": "2025-08-27T09:03:06.907407",
     "exception": false,
     "start_time": "2025-08-27T09:03:06.877378",
     "status": "completed"
    },
    "tags": []
   },
   "outputs": [
    {
     "name": "stdout",
     "output_type": "stream",
     "text": [
      "-1.1118801180469204\n"
     ]
    }
   ],
   "source": [
    "print(np.random.randn())"
   ]
  },
  {
   "cell_type": "code",
   "execution_count": 28,
   "id": "8eb65481",
   "metadata": {
    "collapsed": true,
    "execution": {
     "iopub.execute_input": "2025-08-27T09:03:06.954383Z",
     "iopub.status.busy": "2025-08-27T09:03:06.954088Z",
     "iopub.status.idle": "2025-08-27T09:03:06.958983Z",
     "shell.execute_reply": "2025-08-27T09:03:06.958205Z"
    },
    "jupyter": {
     "outputs_hidden": true
    },
    "papermill": {
     "duration": 0.029986,
     "end_time": "2025-08-27T09:03:06.960252",
     "exception": false,
     "start_time": "2025-08-27T09:03:06.930266",
     "status": "completed"
    },
    "tags": []
   },
   "outputs": [
    {
     "name": "stdout",
     "output_type": "stream",
     "text": [
      "[ 0.31890218  0.27904129  1.01051528 -0.58087813 -0.52516981]\n"
     ]
    }
   ],
   "source": [
    "# this is the 1D array created by random.randn\n",
    "arr = np.random.randn(5)\n",
    "print(arr)"
   ]
  },
  {
   "cell_type": "code",
   "execution_count": 29,
   "id": "1d9e6544",
   "metadata": {
    "collapsed": true,
    "execution": {
     "iopub.execute_input": "2025-08-27T09:03:07.008370Z",
     "iopub.status.busy": "2025-08-27T09:03:07.008096Z",
     "iopub.status.idle": "2025-08-27T09:03:07.013085Z",
     "shell.execute_reply": "2025-08-27T09:03:07.012185Z"
    },
    "jupyter": {
     "outputs_hidden": true
    },
    "papermill": {
     "duration": 0.031112,
     "end_time": "2025-08-27T09:03:07.014455",
     "exception": false,
     "start_time": "2025-08-27T09:03:06.983343",
     "status": "completed"
    },
    "tags": []
   },
   "outputs": [
    {
     "name": "stdout",
     "output_type": "stream",
     "text": [
      "[[-0.57138017 -0.92408284 -2.61254901  0.95036968]\n",
      " [ 0.81644508 -1.523876   -0.42804606 -0.74240684]\n",
      " [-0.7033438  -2.13962066 -0.62947496  0.59772047]]\n"
     ]
    }
   ],
   "source": [
    "# this is 2D array created by random.randn where we have 3rows and 4 columns\n",
    "arr = np.random.randn(3,4)\n",
    "print(arr)"
   ]
  },
  {
   "cell_type": "code",
   "execution_count": 30,
   "id": "c3159ad0",
   "metadata": {
    "collapsed": true,
    "execution": {
     "iopub.execute_input": "2025-08-27T09:03:07.063603Z",
     "iopub.status.busy": "2025-08-27T09:03:07.062994Z",
     "iopub.status.idle": "2025-08-27T09:03:07.068408Z",
     "shell.execute_reply": "2025-08-27T09:03:07.067429Z"
    },
    "jupyter": {
     "outputs_hidden": true
    },
    "papermill": {
     "duration": 0.031917,
     "end_time": "2025-08-27T09:03:07.069763",
     "exception": false,
     "start_time": "2025-08-27T09:03:07.037846",
     "status": "completed"
    },
    "tags": []
   },
   "outputs": [
    {
     "name": "stdout",
     "output_type": "stream",
     "text": [
      "[[[ 2.55948803  0.39423302  0.12221917 -0.51543566]\n",
      "  [-0.60025385  0.94743982  0.291034   -0.63555974]\n",
      "  [-1.02155219 -0.16175539 -0.5336488  -0.00552786]]\n",
      "\n",
      " [[-0.22945045  0.38934891 -1.26511911  1.09199226]\n",
      "  [ 2.77831304  1.19363972  0.21863832  0.88176104]\n",
      "  [-1.00908534 -1.58329421  0.77370042 -0.53814166]]\n",
      "\n",
      " [[-1.3466781  -0.88059127 -1.1305523   0.13442888]\n",
      "  [ 0.58212279  0.88774846  0.89433233  0.7549978 ]\n",
      "  [-0.20716589 -0.62347739 -1.50815329  1.09964698]]]\n"
     ]
    }
   ],
   "source": [
    "# 3D array using random.randn where we have 3 sides each having 3 rows and each row have 4 column\n",
    "arr = np.random.randn(3,3,4)\n",
    "print(arr)"
   ]
  },
  {
   "cell_type": "markdown",
   "id": "3979fffb",
   "metadata": {
    "papermill": {
     "duration": 0.023046,
     "end_time": "2025-08-27T09:03:07.116894",
     "exception": false,
     "start_time": "2025-08-27T09:03:07.093848",
     "status": "completed"
    },
    "tags": []
   },
   "source": [
    "# zeros\n",
    "* *np.zeros()* is a numpy function that creates an array filled with all zeros.\n",
    "* useful when you want to initialize an array before filling it with values.\n",
    "* the syntax for the function is:\n",
    "  > *np.zeros(shape,dtype=float,order='c')*\n",
    "  \n",
    "      1. here shape defines the dimentions of the array. This parameter is compulsory.\n",
    "      2. dtype defines the data type of the array. This parameter is optional and default value is float\n",
    "      3. order is the optional parameter where the default parameter is 'c' which stores the element row by row in the memory and if we change the parameter to 'F' then it stores the elements column by column in memory.(we will see this in action using a example)"
   ]
  },
  {
   "cell_type": "code",
   "execution_count": 31,
   "id": "fb9ccf23",
   "metadata": {
    "collapsed": true,
    "execution": {
     "iopub.execute_input": "2025-08-27T09:03:07.165125Z",
     "iopub.status.busy": "2025-08-27T09:03:07.164782Z",
     "iopub.status.idle": "2025-08-27T09:03:07.170247Z",
     "shell.execute_reply": "2025-08-27T09:03:07.169447Z"
    },
    "jupyter": {
     "outputs_hidden": true
    },
    "papermill": {
     "duration": 0.031479,
     "end_time": "2025-08-27T09:03:07.171676",
     "exception": false,
     "start_time": "2025-08-27T09:03:07.140197",
     "status": "completed"
    },
    "tags": []
   },
   "outputs": [
    {
     "name": "stdout",
     "output_type": "stream",
     "text": [
      "[0. 0. 0. 0. 0.]\n"
     ]
    }
   ],
   "source": [
    "# this is the simple example for 1d array where we have only specified the compulsory part that is shape.\n",
    "arr = np.zeros(5)\n",
    "print(arr)"
   ]
  },
  {
   "cell_type": "code",
   "execution_count": 32,
   "id": "41baddf7",
   "metadata": {
    "collapsed": true,
    "execution": {
     "iopub.execute_input": "2025-08-27T09:03:07.220525Z",
     "iopub.status.busy": "2025-08-27T09:03:07.220263Z",
     "iopub.status.idle": "2025-08-27T09:03:07.225281Z",
     "shell.execute_reply": "2025-08-27T09:03:07.224420Z"
    },
    "jupyter": {
     "outputs_hidden": true
    },
    "papermill": {
     "duration": 0.031418,
     "end_time": "2025-08-27T09:03:07.226726",
     "exception": false,
     "start_time": "2025-08-27T09:03:07.195308",
     "status": "completed"
    },
    "tags": []
   },
   "outputs": [
    {
     "name": "stdout",
     "output_type": "stream",
     "text": [
      "[[0. 0. 0.]\n",
      " [0. 0. 0.]]\n"
     ]
    }
   ],
   "source": [
    "# this is the example of 2d array\n",
    "arr = np.zeros((2,3))\n",
    "print(arr)"
   ]
  },
  {
   "cell_type": "code",
   "execution_count": 33,
   "id": "152d22ac",
   "metadata": {
    "collapsed": true,
    "execution": {
     "iopub.execute_input": "2025-08-27T09:03:07.275335Z",
     "iopub.status.busy": "2025-08-27T09:03:07.274611Z",
     "iopub.status.idle": "2025-08-27T09:03:07.279491Z",
     "shell.execute_reply": "2025-08-27T09:03:07.278632Z"
    },
    "jupyter": {
     "outputs_hidden": true
    },
    "papermill": {
     "duration": 0.03103,
     "end_time": "2025-08-27T09:03:07.280941",
     "exception": false,
     "start_time": "2025-08-27T09:03:07.249911",
     "status": "completed"
    },
    "tags": []
   },
   "outputs": [
    {
     "name": "stdout",
     "output_type": "stream",
     "text": [
      "[[0 0 0]\n",
      " [0 0 0]\n",
      " [0 0 0]]\n"
     ]
    }
   ],
   "source": [
    "# now we specify one of the optional parameter that is dtype\n",
    "arr = np.zeros((3,3),dtype=int)\n",
    "print(arr)"
   ]
  },
  {
   "cell_type": "code",
   "execution_count": 34,
   "id": "ccecf9c2",
   "metadata": {
    "collapsed": true,
    "execution": {
     "iopub.execute_input": "2025-08-27T09:03:07.330325Z",
     "iopub.status.busy": "2025-08-27T09:03:07.330047Z",
     "iopub.status.idle": "2025-08-27T09:03:07.335223Z",
     "shell.execute_reply": "2025-08-27T09:03:07.334207Z"
    },
    "jupyter": {
     "outputs_hidden": true
    },
    "papermill": {
     "duration": 0.03192,
     "end_time": "2025-08-27T09:03:07.336558",
     "exception": false,
     "start_time": "2025-08-27T09:03:07.304638",
     "status": "completed"
    },
    "tags": []
   },
   "outputs": [
    {
     "name": "stdout",
     "output_type": "stream",
     "text": [
      "[[0. 0. 0.]\n",
      " [0. 0. 0.]\n",
      " [0. 0. 0.]]\n",
      "[0. 0. 0. 0. 0. 0. 0. 0. 0.]\n"
     ]
    }
   ],
   "source": [
    "# now we will see the example where we use the second optional parameter that is order.\n",
    "# here we will use the default value that is the row major 'C'\n",
    "arr = np.zeros((3,3),order='C')\n",
    "print(arr)\n",
    "print(arr.ravel(order='C'))"
   ]
  },
  {
   "cell_type": "markdown",
   "id": "0170b9ac",
   "metadata": {
    "papermill": {
     "duration": 0.023255,
     "end_time": "2025-08-27T09:03:07.383434",
     "exception": false,
     "start_time": "2025-08-27T09:03:07.360179",
     "status": "completed"
    },
    "tags": []
   },
   "source": [
    "the ravel function helps flatten the the ND array into 1D array"
   ]
  },
  {
   "cell_type": "code",
   "execution_count": 35,
   "id": "1ab26848",
   "metadata": {
    "collapsed": true,
    "execution": {
     "iopub.execute_input": "2025-08-27T09:03:07.431746Z",
     "iopub.status.busy": "2025-08-27T09:03:07.431498Z",
     "iopub.status.idle": "2025-08-27T09:03:07.436889Z",
     "shell.execute_reply": "2025-08-27T09:03:07.435938Z"
    },
    "jupyter": {
     "outputs_hidden": true
    },
    "papermill": {
     "duration": 0.031546,
     "end_time": "2025-08-27T09:03:07.438234",
     "exception": false,
     "start_time": "2025-08-27T09:03:07.406688",
     "status": "completed"
    },
    "tags": []
   },
   "outputs": [
    {
     "name": "stdout",
     "output_type": "stream",
     "text": [
      "[[0. 0. 0.]\n",
      " [0. 0. 0.]\n",
      " [0. 0. 0.]]\n",
      "[0. 0. 0. 0. 0. 0. 0. 0. 0.]\n"
     ]
    }
   ],
   "source": [
    "# now we change the value of order to 'F'.\n",
    "# the value 'F' is used in Fortran language and MATLAB\n",
    "# this is a column major\n",
    "\n",
    "arr = np.zeros((3,3),order='F')\n",
    "print(arr)\n",
    "print(arr.ravel(order='F'))"
   ]
  },
  {
   "cell_type": "markdown",
   "id": "4841e1f6",
   "metadata": {
    "papermill": {
     "duration": 0.023822,
     "end_time": "2025-08-27T09:03:07.485682",
     "exception": false,
     "start_time": "2025-08-27T09:03:07.461860",
     "status": "completed"
    },
    "tags": []
   },
   "source": [
    "# Why are the output for order='C' and order='F' same?\n",
    "the resaon is:\n",
    "* the numpy array are stored in the contiguous memory blocks.\n",
    "* So when we print an 2D array, it shows it in 2d form but internally it store the data as 1d chunk in memory.\n",
    "* so when we say that order = 'C' means that the order is row major that is the data will be read and stored row by row.\n",
    "* when order = 'F' means that the order is column major that is the data will be read and stored column by column and this both will be printed in 1D array\n",
    "* to understand this lets take a example"
   ]
  },
  {
   "cell_type": "code",
   "execution_count": 36,
   "id": "53beca17",
   "metadata": {
    "collapsed": true,
    "execution": {
     "iopub.execute_input": "2025-08-27T09:03:07.536388Z",
     "iopub.status.busy": "2025-08-27T09:03:07.535719Z",
     "iopub.status.idle": "2025-08-27T09:03:07.541741Z",
     "shell.execute_reply": "2025-08-27T09:03:07.540827Z"
    },
    "jupyter": {
     "outputs_hidden": true
    },
    "papermill": {
     "duration": 0.032295,
     "end_time": "2025-08-27T09:03:07.543281",
     "exception": false,
     "start_time": "2025-08-27T09:03:07.510986",
     "status": "completed"
    },
    "tags": []
   },
   "outputs": [
    {
     "name": "stdout",
     "output_type": "stream",
     "text": [
      "[[1 2 3]\n",
      " [4 5 6]]\n",
      "(2, 3)\n",
      "When the order is 'C': [1 2 3 4 5 6]\n",
      "When the order is 'C': [1 4 2 5 3 6]\n"
     ]
    }
   ],
   "source": [
    "arr = np.array([[1,2,3],[4,5,6]])\n",
    "print(arr)\n",
    "print(arr.shape)\n",
    "print(f\"When the order is 'C': {arr.ravel(order='C')}\") #this is row major \n",
    "print(f\"When the order is 'C': {arr.ravel(order='F')}\") #this is column major"
   ]
  },
  {
   "cell_type": "markdown",
   "id": "f95e2f4f",
   "metadata": {
    "papermill": {
     "duration": 0.023868,
     "end_time": "2025-08-27T09:03:07.592050",
     "exception": false,
     "start_time": "2025-08-27T09:03:07.568182",
     "status": "completed"
    },
    "tags": []
   },
   "source": [
    "# Ones\n",
    "* *np.ones()* creates a new Numpy array filled with 1.0 values\n",
    "* the syntax for this is:\n",
    "  > *np.ones(shape, dtype=None, order='C', *, like=None)*\n",
    "  \n",
    "      1. Here the starting parameter are similar to the np.zeros.\n",
    "      2. the '*' is a function signature. parameter before '*' can be passed either positionally or by keyword. And parameter after * must be passed by keyword only. so here 'shape', 'dtype', 'order' can be positional or keyword and like must be passed as keyword argument.\n",
    "      3. Note like is not that important parameter so we will not discuss that much. this parameter matters when working with numpy compatible libraries like Cupy, Dask, JAX that implement numpy api but want array in their own array type. "
   ]
  },
  {
   "cell_type": "code",
   "execution_count": 37,
   "id": "53bcef56",
   "metadata": {
    "collapsed": true,
    "execution": {
     "iopub.execute_input": "2025-08-27T09:03:07.640456Z",
     "iopub.status.busy": "2025-08-27T09:03:07.640186Z",
     "iopub.status.idle": "2025-08-27T09:03:07.644968Z",
     "shell.execute_reply": "2025-08-27T09:03:07.644156Z"
    },
    "jupyter": {
     "outputs_hidden": true
    },
    "papermill": {
     "duration": 0.030636,
     "end_time": "2025-08-27T09:03:07.646410",
     "exception": false,
     "start_time": "2025-08-27T09:03:07.615774",
     "status": "completed"
    },
    "tags": []
   },
   "outputs": [
    {
     "name": "stdout",
     "output_type": "stream",
     "text": [
      "[[1. 1. 1.]\n",
      " [1. 1. 1.]\n",
      " [1. 1. 1.]]\n",
      "float64\n"
     ]
    }
   ],
   "source": [
    "# this is the basic example and similar to np.zeros\n",
    "one = np.ones((3,3))\n",
    "print(one)\n",
    "print(one.dtype)"
   ]
  },
  {
   "cell_type": "markdown",
   "id": "8174a880",
   "metadata": {
    "papermill": {
     "duration": 0.02356,
     "end_time": "2025-08-27T09:03:07.693726",
     "exception": false,
     "start_time": "2025-08-27T09:03:07.670166",
     "status": "completed"
    },
    "tags": []
   },
   "source": [
    "**ones_like**\n",
    "* np.ones_like create a new array of ones with the simple shape and type as the existing array"
   ]
  },
  {
   "cell_type": "code",
   "execution_count": 38,
   "id": "c9d43244",
   "metadata": {
    "collapsed": true,
    "execution": {
     "iopub.execute_input": "2025-08-27T09:03:07.741669Z",
     "iopub.status.busy": "2025-08-27T09:03:07.741384Z",
     "iopub.status.idle": "2025-08-27T09:03:07.746798Z",
     "shell.execute_reply": "2025-08-27T09:03:07.745962Z"
    },
    "jupyter": {
     "outputs_hidden": true
    },
    "papermill": {
     "duration": 0.031266,
     "end_time": "2025-08-27T09:03:07.748277",
     "exception": false,
     "start_time": "2025-08-27T09:03:07.717011",
     "status": "completed"
    },
    "tags": []
   },
   "outputs": [
    {
     "name": "stdout",
     "output_type": "stream",
     "text": [
      "[[1 1 1]\n",
      " [1 1 1]]\n",
      "int64\n"
     ]
    }
   ],
   "source": [
    "arr = [[1,2,3],[5,6,7]]\n",
    "one = np.ones_like(arr)\n",
    "print(one)\n",
    "print(one.dtype)"
   ]
  },
  {
   "cell_type": "markdown",
   "id": "bc125927",
   "metadata": {
    "papermill": {
     "duration": 0.02353,
     "end_time": "2025-08-27T09:03:07.795556",
     "exception": false,
     "start_time": "2025-08-27T09:03:07.772026",
     "status": "completed"
    },
    "tags": []
   },
   "source": [
    "# Full\n",
    "* create a new array of the given shape filled with a specified constant value.\n",
    "* the syntax for that is:\n",
    "  > numpy.full(shape, fill_value, dtype=None, order = 'C', *, like=None)\n",
    "  \n",
    "  1. here the shape is important value that defines the type of array you want.\n",
    "  2. fill_value is the compulsory parameter that fills the array with that constant value.\n",
    "  3. dtype is optional and it says what datatype array you want.\n",
    "  4. order and like we have discussed above"
   ]
  },
  {
   "cell_type": "code",
   "execution_count": 39,
   "id": "a81b9af5",
   "metadata": {
    "collapsed": true,
    "execution": {
     "iopub.execute_input": "2025-08-27T09:03:07.844152Z",
     "iopub.status.busy": "2025-08-27T09:03:07.843798Z",
     "iopub.status.idle": "2025-08-27T09:03:07.848730Z",
     "shell.execute_reply": "2025-08-27T09:03:07.847966Z"
    },
    "jupyter": {
     "outputs_hidden": true
    },
    "papermill": {
     "duration": 0.030861,
     "end_time": "2025-08-27T09:03:07.850295",
     "exception": false,
     "start_time": "2025-08-27T09:03:07.819434",
     "status": "completed"
    },
    "tags": []
   },
   "outputs": [
    {
     "name": "stdout",
     "output_type": "stream",
     "text": [
      "[[4 4 4 4]\n",
      " [4 4 4 4]\n",
      " [4 4 4 4]\n",
      " [4 4 4 4]]\n"
     ]
    }
   ],
   "source": [
    "# this is tha basic example where we have mentioned the compulsory parameter that is shape and the fill value\n",
    "full = np.full((4,4),4)\n",
    "print(full)"
   ]
  },
  {
   "cell_type": "code",
   "execution_count": 40,
   "id": "1807238d",
   "metadata": {
    "collapsed": true,
    "execution": {
     "iopub.execute_input": "2025-08-27T09:03:07.901583Z",
     "iopub.status.busy": "2025-08-27T09:03:07.900817Z",
     "iopub.status.idle": "2025-08-27T09:03:07.906097Z",
     "shell.execute_reply": "2025-08-27T09:03:07.905110Z"
    },
    "jupyter": {
     "outputs_hidden": true
    },
    "papermill": {
     "duration": 0.031905,
     "end_time": "2025-08-27T09:03:07.907492",
     "exception": false,
     "start_time": "2025-08-27T09:03:07.875587",
     "status": "completed"
    },
    "tags": []
   },
   "outputs": [
    {
     "name": "stdout",
     "output_type": "stream",
     "text": [
      "[[5. 5.]\n",
      " [5. 5.]]\n"
     ]
    }
   ],
   "source": [
    "# this is same as np.ones_like()\n",
    "arr = np.array([[1,2], [3,4]],dtype=np.float64)\n",
    "full = np.full_like(arr,5)\n",
    "print(full)"
   ]
  },
  {
   "cell_type": "markdown",
   "id": "63ff565f",
   "metadata": {
    "papermill": {
     "duration": 0.024064,
     "end_time": "2025-08-27T09:03:07.955455",
     "exception": false,
     "start_time": "2025-08-27T09:03:07.931391",
     "status": "completed"
    },
    "tags": []
   },
   "source": [
    "# Eye\n",
    "* the *np.eye()* function creates an **Identity Matrix** that is ones in the diagnoal and zeros elsewhere.\n",
    "* The syntax for this is:\n",
    "  > np.eye(N,M=none, k=0, dtype=float, order='C', *, like=none)\n",
    "\n",
    "  1. here N is the number of rows.\n",
    "  2. M is optional and it is number of column and if M is not mentioned then N = M\n",
    "  3. k is the index of the diagonal and by default it is 0\n",
    "     * if K = 0 main diagonal\n",
    "     * if K > 0 diagonal above main\n",
    "     * if K < 0 diagonal below main\n",
    "\n",
    "       this normally means that how much we want to move the diagonal from the main. We will see this with example below.\n",
    "  4. dtype by default is float but we can change the value.\n",
    "  5. order and like are same as above and we have discussed about them above."
   ]
  },
  {
   "cell_type": "code",
   "execution_count": 41,
   "id": "1334b7ce",
   "metadata": {
    "collapsed": true,
    "execution": {
     "iopub.execute_input": "2025-08-27T09:03:08.004738Z",
     "iopub.status.busy": "2025-08-27T09:03:08.004466Z",
     "iopub.status.idle": "2025-08-27T09:03:08.010178Z",
     "shell.execute_reply": "2025-08-27T09:03:08.009159Z"
    },
    "jupyter": {
     "outputs_hidden": true
    },
    "papermill": {
     "duration": 0.032395,
     "end_time": "2025-08-27T09:03:08.011541",
     "exception": false,
     "start_time": "2025-08-27T09:03:07.979146",
     "status": "completed"
    },
    "tags": []
   },
   "outputs": [
    {
     "name": "stdout",
     "output_type": "stream",
     "text": [
      "[[1. 0. 0. 0.]\n",
      " [0. 1. 0. 0.]\n",
      " [0. 0. 1. 0.]\n",
      " [0. 0. 0. 1.]]\n",
      "<class 'numpy.ndarray'>\n"
     ]
    }
   ],
   "source": [
    "# this is the simple example showing how the np.eye works\n",
    "identity_matrix = np.eye(4)\n",
    "print(identity_matrix)\n",
    "print(type(identity_matrix))"
   ]
  },
  {
   "cell_type": "code",
   "execution_count": 42,
   "id": "c95c5d1a",
   "metadata": {
    "collapsed": true,
    "execution": {
     "iopub.execute_input": "2025-08-27T09:03:08.062489Z",
     "iopub.status.busy": "2025-08-27T09:03:08.062098Z",
     "iopub.status.idle": "2025-08-27T09:03:08.068428Z",
     "shell.execute_reply": "2025-08-27T09:03:08.067356Z"
    },
    "jupyter": {
     "outputs_hidden": true
    },
    "papermill": {
     "duration": 0.033666,
     "end_time": "2025-08-27T09:03:08.069709",
     "exception": false,
     "start_time": "2025-08-27T09:03:08.036043",
     "status": "completed"
    },
    "tags": []
   },
   "outputs": [
    {
     "name": "stdout",
     "output_type": "stream",
     "text": [
      "[[0. 1. 0. 0. 0.]\n",
      " [0. 0. 1. 0. 0.]\n",
      " [0. 0. 0. 1. 0.]\n",
      " [0. 0. 0. 0. 1.]\n",
      " [0. 0. 0. 0. 0.]]\n",
      "\n",
      "\n",
      "[[0. 0. 1. 0. 0.]\n",
      " [0. 0. 0. 1. 0.]\n",
      " [0. 0. 0. 0. 1.]\n",
      " [0. 0. 0. 0. 0.]\n",
      " [0. 0. 0. 0. 0.]]\n"
     ]
    }
   ],
   "source": [
    "# here comes the interesting part where we set the k value.\n",
    "# when the k = 1 the diagonal moves above main by 1\n",
    "# when k = 2 the diagonal moves above main by 2\n",
    "identity_matrix = np.eye(5,k = 1)\n",
    "print(identity_matrix)\n",
    "print(\"\\n\")\n",
    "new_matrix = np.eye(5,k=2)\n",
    "print(new_matrix)"
   ]
  },
  {
   "cell_type": "code",
   "execution_count": 43,
   "id": "72fc55ba",
   "metadata": {
    "collapsed": true,
    "execution": {
     "iopub.execute_input": "2025-08-27T09:03:08.119920Z",
     "iopub.status.busy": "2025-08-27T09:03:08.119584Z",
     "iopub.status.idle": "2025-08-27T09:03:08.125514Z",
     "shell.execute_reply": "2025-08-27T09:03:08.124646Z"
    },
    "jupyter": {
     "outputs_hidden": true
    },
    "papermill": {
     "duration": 0.033202,
     "end_time": "2025-08-27T09:03:08.126923",
     "exception": false,
     "start_time": "2025-08-27T09:03:08.093721",
     "status": "completed"
    },
    "tags": []
   },
   "outputs": [
    {
     "name": "stdout",
     "output_type": "stream",
     "text": [
      "[[0. 0. 0. 0. 0.]\n",
      " [1. 0. 0. 0. 0.]\n",
      " [0. 1. 0. 0. 0.]\n",
      " [0. 0. 1. 0. 0.]\n",
      " [0. 0. 0. 1. 0.]]\n",
      "\n",
      "\n",
      "[[0. 0. 0. 0. 0.]\n",
      " [0. 0. 0. 0. 0.]\n",
      " [1. 0. 0. 0. 0.]\n",
      " [0. 1. 0. 0. 0.]\n",
      " [0. 0. 1. 0. 0.]]\n"
     ]
    }
   ],
   "source": [
    "# similar with k<0\n",
    "# when we make k=-1 the diagonal moves below main by 1\n",
    "# when k = -2 the diagonal moves below main by 2\n",
    "identity_matrix = np.eye(5,k = -1)\n",
    "print(identity_matrix)\n",
    "print(\"\\n\")\n",
    "new_matrix = np.eye(5,k=-2)\n",
    "print(new_matrix)"
   ]
  },
  {
   "cell_type": "markdown",
   "id": "26b9a4f9",
   "metadata": {
    "papermill": {
     "duration": 0.023436,
     "end_time": "2025-08-27T09:03:08.174193",
     "exception": false,
     "start_time": "2025-08-27T09:03:08.150757",
     "status": "completed"
    },
    "tags": []
   },
   "source": [
    "# Repeat\n",
    "* The *np.repeat()* function repeats each element of an array a specified number of times.\n",
    "* the syntax for this is:\n",
    "  > *np.repeat(a,repeats,axis=None)*\n",
    "  \n",
    "      1. a is thr input array\n",
    "      2. repeats specifies how many times the value needs to be repeated. If int is mentioned then each element is repeated that many times and if array of int is mentioned then it defines how many times to repeat each element individually.\n",
    "      3. axis is an optional parameter this shows the axis along which the values are repeated. if axis = None then the array is flattened before repeating. if axis = 0 then repeat the values along rows and if axis = 1 then repeat the values along columns."
   ]
  },
  {
   "cell_type": "code",
   "execution_count": 44,
   "id": "36788261",
   "metadata": {
    "collapsed": true,
    "execution": {
     "iopub.execute_input": "2025-08-27T09:03:08.221942Z",
     "iopub.status.busy": "2025-08-27T09:03:08.221630Z",
     "iopub.status.idle": "2025-08-27T09:03:08.226904Z",
     "shell.execute_reply": "2025-08-27T09:03:08.225965Z"
    },
    "jupyter": {
     "outputs_hidden": true
    },
    "papermill": {
     "duration": 0.030745,
     "end_time": "2025-08-27T09:03:08.228317",
     "exception": false,
     "start_time": "2025-08-27T09:03:08.197572",
     "status": "completed"
    },
    "tags": []
   },
   "outputs": [
    {
     "name": "stdout",
     "output_type": "stream",
     "text": [
      "[1 1 2 2 3 3]\n"
     ]
    }
   ],
   "source": [
    "# this is the basic repeat with 1d array where we have mentioned the array and the number of times to repeat the value\n",
    "arr = np.array([1,2,3])\n",
    "print(np.repeat(arr,2))"
   ]
  },
  {
   "cell_type": "code",
   "execution_count": 45,
   "id": "fb98d43d",
   "metadata": {
    "collapsed": true,
    "execution": {
     "iopub.execute_input": "2025-08-27T09:03:08.278678Z",
     "iopub.status.busy": "2025-08-27T09:03:08.278360Z",
     "iopub.status.idle": "2025-08-27T09:03:08.283672Z",
     "shell.execute_reply": "2025-08-27T09:03:08.282615Z"
    },
    "jupyter": {
     "outputs_hidden": true
    },
    "papermill": {
     "duration": 0.032268,
     "end_time": "2025-08-27T09:03:08.285239",
     "exception": false,
     "start_time": "2025-08-27T09:03:08.252971",
     "status": "completed"
    },
    "tags": []
   },
   "outputs": [
    {
     "name": "stdout",
     "output_type": "stream",
     "text": [
      "[1 2 2 3 3 3]\n"
     ]
    }
   ],
   "source": [
    "# this is the example where we have mentioned the array of int in the repeat.\n",
    "arr = np.array([1,2,3])\n",
    "print(np.repeat(arr,[1,2,3]))"
   ]
  },
  {
   "cell_type": "code",
   "execution_count": 46,
   "id": "0cdbf9f4",
   "metadata": {
    "collapsed": true,
    "execution": {
     "iopub.execute_input": "2025-08-27T09:03:08.334957Z",
     "iopub.status.busy": "2025-08-27T09:03:08.334624Z",
     "iopub.status.idle": "2025-08-27T09:03:08.339705Z",
     "shell.execute_reply": "2025-08-27T09:03:08.338754Z"
    },
    "jupyter": {
     "outputs_hidden": true
    },
    "papermill": {
     "duration": 0.031215,
     "end_time": "2025-08-27T09:03:08.341007",
     "exception": false,
     "start_time": "2025-08-27T09:03:08.309792",
     "status": "completed"
    },
    "tags": []
   },
   "outputs": [
    {
     "name": "stdout",
     "output_type": "stream",
     "text": [
      "[0 0 0 0 1 1 1 1 2 2 2 2 3 3 3 3 4 4 4 4 5 5 5 5]\n"
     ]
    }
   ],
   "source": [
    "# this is a simple 2D array example where we have mentioned the array and the repeat count.\n",
    "# since the axis is not mentioned then the 2D array is flattened.\n",
    "arr = [[0,1,2],[3,4,5]]\n",
    "print(np.repeat(arr,4))"
   ]
  },
  {
   "cell_type": "code",
   "execution_count": 47,
   "id": "9d4fce26",
   "metadata": {
    "execution": {
     "iopub.execute_input": "2025-08-27T09:03:08.390199Z",
     "iopub.status.busy": "2025-08-27T09:03:08.389845Z",
     "iopub.status.idle": "2025-08-27T09:03:08.395138Z",
     "shell.execute_reply": "2025-08-27T09:03:08.394271Z"
    },
    "papermill": {
     "duration": 0.031733,
     "end_time": "2025-08-27T09:03:08.396516",
     "exception": false,
     "start_time": "2025-08-27T09:03:08.364783",
     "status": "completed"
    },
    "tags": []
   },
   "outputs": [
    {
     "name": "stdout",
     "output_type": "stream",
     "text": [
      "[[0 1 2]\n",
      " [0 1 2]\n",
      " [0 1 2]\n",
      " [0 1 2]\n",
      " [3 4 5]\n",
      " [3 4 5]\n",
      " [3 4 5]\n",
      " [3 4 5]]\n"
     ]
    }
   ],
   "source": [
    "# here we have mentioned the axis. if axis is 0 then the values will be repeated along the rows\n",
    "arr = [[0,1,2],[3,4,5]]\n",
    "print(np.repeat(arr,4,axis=0))"
   ]
  },
  {
   "cell_type": "code",
   "execution_count": 48,
   "id": "b6956c72",
   "metadata": {
    "execution": {
     "iopub.execute_input": "2025-08-27T09:03:08.447762Z",
     "iopub.status.busy": "2025-08-27T09:03:08.447484Z",
     "iopub.status.idle": "2025-08-27T09:03:08.452815Z",
     "shell.execute_reply": "2025-08-27T09:03:08.452154Z"
    },
    "papermill": {
     "duration": 0.033558,
     "end_time": "2025-08-27T09:03:08.454147",
     "exception": false,
     "start_time": "2025-08-27T09:03:08.420589",
     "status": "completed"
    },
    "tags": []
   },
   "outputs": [
    {
     "name": "stdout",
     "output_type": "stream",
     "text": [
      "[[0 0 0 0 1 1 1 1 2 2 2 2]\n",
      " [3 3 3 3 4 4 4 4 5 5 5 5]]\n"
     ]
    }
   ],
   "source": [
    "# here the axis is 1 so the values will be repeated along the columns\n",
    "arr = [[0,1,2],[3,4,5]]\n",
    "print(np.repeat(arr,4,axis=1))"
   ]
  },
  {
   "cell_type": "markdown",
   "id": "81572609",
   "metadata": {
    "papermill": {
     "duration": 0.024671,
     "end_time": "2025-08-27T09:03:08.502979",
     "exception": false,
     "start_time": "2025-08-27T09:03:08.478308",
     "status": "completed"
    },
    "tags": []
   },
   "source": [
    "# Tile\n",
    "* The np.title function constructs an array by repeating the whole array in a specified pattern.\n",
    "* the syntax for this is:\n",
    "  > np.title(a,reps)\n",
    "\n",
    "      1. here a is the input array\n",
    "      2. here reps is how many times the array is repeated. if scalar then repeats along the 1st axis and if tuple or list then specifies the repetiton along each axis."
   ]
  },
  {
   "cell_type": "code",
   "execution_count": 49,
   "id": "f1f50a4c",
   "metadata": {
    "execution": {
     "iopub.execute_input": "2025-08-27T09:03:08.552533Z",
     "iopub.status.busy": "2025-08-27T09:03:08.552287Z",
     "iopub.status.idle": "2025-08-27T09:03:08.557219Z",
     "shell.execute_reply": "2025-08-27T09:03:08.556469Z"
    },
    "papermill": {
     "duration": 0.03084,
     "end_time": "2025-08-27T09:03:08.558448",
     "exception": false,
     "start_time": "2025-08-27T09:03:08.527608",
     "status": "completed"
    },
    "tags": []
   },
   "outputs": [
    {
     "name": "stdout",
     "output_type": "stream",
     "text": [
      "[1 2 3 1 2 3 1 2 3]\n"
     ]
    }
   ],
   "source": [
    "# this is the basic 1D array example where we have mentioned the array and the reps\n",
    "arr = np.array([1,2,3])\n",
    "print(np.tile(arr,3))"
   ]
  },
  {
   "cell_type": "code",
   "execution_count": 50,
   "id": "0bc3c578",
   "metadata": {
    "execution": {
     "iopub.execute_input": "2025-08-27T09:03:08.608572Z",
     "iopub.status.busy": "2025-08-27T09:03:08.607957Z",
     "iopub.status.idle": "2025-08-27T09:03:08.613443Z",
     "shell.execute_reply": "2025-08-27T09:03:08.612442Z"
    },
    "papermill": {
     "duration": 0.032349,
     "end_time": "2025-08-27T09:03:08.614827",
     "exception": false,
     "start_time": "2025-08-27T09:03:08.582478",
     "status": "completed"
    },
    "tags": []
   },
   "outputs": [
    {
     "name": "stdout",
     "output_type": "stream",
     "text": [
      "[[1 2 1 2]\n",
      " [3 4 3 4]]\n"
     ]
    }
   ],
   "source": [
    "# this is the example of 2D array where we have given the array and the reps.\n",
    "# here we have not explicitly mentioned the row and column reps so by default if will repeat the array in row\n",
    "arr = np.array([[1,2],[3,4]])\n",
    "print(np.tile(arr,2))"
   ]
  },
  {
   "cell_type": "code",
   "execution_count": 51,
   "id": "e7d1043c",
   "metadata": {
    "execution": {
     "iopub.execute_input": "2025-08-27T09:03:08.664593Z",
     "iopub.status.busy": "2025-08-27T09:03:08.664336Z",
     "iopub.status.idle": "2025-08-27T09:03:08.670278Z",
     "shell.execute_reply": "2025-08-27T09:03:08.669186Z"
    },
    "papermill": {
     "duration": 0.032485,
     "end_time": "2025-08-27T09:03:08.671769",
     "exception": false,
     "start_time": "2025-08-27T09:03:08.639284",
     "status": "completed"
    },
    "tags": []
   },
   "outputs": [
    {
     "name": "stdout",
     "output_type": "stream",
     "text": [
      "[[1 2 1 2 1 2]\n",
      " [3 4 3 4 3 4]\n",
      " [1 2 1 2 1 2]\n",
      " [3 4 3 4 3 4]]\n"
     ]
    }
   ],
   "source": [
    "# this is the example where we have specifed the reps for rows and the columns.\n",
    "# here we want to repeat the array 3 times in the row and repeat the entire array again that is 2.\n",
    "arr = np.array([[1,2],[3,4]])\n",
    "print(np.tile(arr,(2,3)))"
   ]
  },
  {
   "cell_type": "markdown",
   "id": "df9cf029",
   "metadata": {
    "papermill": {
     "duration": 0.024638,
     "end_time": "2025-08-27T09:03:08.720748",
     "exception": false,
     "start_time": "2025-08-27T09:03:08.696110",
     "status": "completed"
    },
    "tags": []
   },
   "source": [
    "# np.diag()\n",
    "* It helps in extracting diagonal elements from the matrix\n",
    "* It also helps create a diagonal matrix from a given 1D array\n",
    "* The syntax for this is:\n",
    "  > np.diag(v,k=0)\n",
    "  \n",
    "      1. If v is 1D array, we can create a diagonal matrix using v on the diagonal\n",
    "      2. If v is a 2D array than we can extract diagonal elements.\n",
    "      3. here K is a optional parameter where if K = 0 then we use main diagonal. If K>0 we use upper diagonal and if k<0 then we use lower diagonals."
   ]
  },
  {
   "cell_type": "code",
   "execution_count": 52,
   "id": "c71e38e1",
   "metadata": {
    "collapsed": true,
    "execution": {
     "iopub.execute_input": "2025-08-27T09:03:08.771215Z",
     "iopub.status.busy": "2025-08-27T09:03:08.770901Z",
     "iopub.status.idle": "2025-08-27T09:03:08.776152Z",
     "shell.execute_reply": "2025-08-27T09:03:08.775009Z"
    },
    "jupyter": {
     "outputs_hidden": true
    },
    "papermill": {
     "duration": 0.032477,
     "end_time": "2025-08-27T09:03:08.777631",
     "exception": false,
     "start_time": "2025-08-27T09:03:08.745154",
     "status": "completed"
    },
    "tags": []
   },
   "outputs": [
    {
     "name": "stdout",
     "output_type": "stream",
     "text": [
      "[[1 0 0]\n",
      " [0 2 0]\n",
      " [0 0 3]]\n"
     ]
    }
   ],
   "source": [
    "# this is a simple example example where we have used a 1D array and created a matrix where we have used the 1D array elements as diagonal element.\n",
    "arr = np.array([1,2,3])\n",
    "d_mat = np.diag(arr)\n",
    "print(d_mat)"
   ]
  },
  {
   "cell_type": "code",
   "execution_count": 53,
   "id": "65eb07e2",
   "metadata": {
    "collapsed": true,
    "execution": {
     "iopub.execute_input": "2025-08-27T09:03:08.829776Z",
     "iopub.status.busy": "2025-08-27T09:03:08.828962Z",
     "iopub.status.idle": "2025-08-27T09:03:08.834669Z",
     "shell.execute_reply": "2025-08-27T09:03:08.833825Z"
    },
    "jupyter": {
     "outputs_hidden": true
    },
    "papermill": {
     "duration": 0.033051,
     "end_time": "2025-08-27T09:03:08.835962",
     "exception": false,
     "start_time": "2025-08-27T09:03:08.802911",
     "status": "completed"
    },
    "tags": []
   },
   "outputs": [
    {
     "name": "stdout",
     "output_type": "stream",
     "text": [
      "[[3 9 7 5 1]\n",
      " [1 0 8 6 7]\n",
      " [0 9 8 2 1]\n",
      " [1 3 5 4 2]\n",
      " [6 1 2 3 4]]\n"
     ]
    }
   ],
   "source": [
    "# Now here we have created a 2D array using the random function. and we have converted that into int\n",
    "# here we have scaled the value because if we directely print the arr_int we will get all values as 0\n",
    "# so first we multiplyed it by 10 then we used astype to make it int.\n",
    "np.random.seed(42)\n",
    "arr = np.random.rand(5,5)\n",
    "arr_int = (arr*10).astype(int)\n",
    "print(arr_int)"
   ]
  },
  {
   "cell_type": "code",
   "execution_count": 54,
   "id": "c86adff7",
   "metadata": {
    "collapsed": true,
    "execution": {
     "iopub.execute_input": "2025-08-27T09:03:08.886105Z",
     "iopub.status.busy": "2025-08-27T09:03:08.885374Z",
     "iopub.status.idle": "2025-08-27T09:03:08.889899Z",
     "shell.execute_reply": "2025-08-27T09:03:08.889005Z"
    },
    "jupyter": {
     "outputs_hidden": true
    },
    "papermill": {
     "duration": 0.031266,
     "end_time": "2025-08-27T09:03:08.891303",
     "exception": false,
     "start_time": "2025-08-27T09:03:08.860037",
     "status": "completed"
    },
    "tags": []
   },
   "outputs": [
    {
     "name": "stdout",
     "output_type": "stream",
     "text": [
      "values on the diagnol: [3 0 8 4 4]\n"
     ]
    }
   ],
   "source": [
    "# so here when we use the diag function we will get the extracted diagonal in 1D array.\n",
    "print(\"values on the diagnol: \"+str(np.diag(arr_int)))"
   ]
  },
  {
   "cell_type": "code",
   "execution_count": 55,
   "id": "a770e2b9",
   "metadata": {
    "collapsed": true,
    "execution": {
     "iopub.execute_input": "2025-08-27T09:03:08.941245Z",
     "iopub.status.busy": "2025-08-27T09:03:08.940436Z",
     "iopub.status.idle": "2025-08-27T09:03:08.946569Z",
     "shell.execute_reply": "2025-08-27T09:03:08.945705Z"
    },
    "jupyter": {
     "outputs_hidden": true
    },
    "papermill": {
     "duration": 0.032378,
     "end_time": "2025-08-27T09:03:08.947761",
     "exception": false,
     "start_time": "2025-08-27T09:03:08.915383",
     "status": "completed"
    },
    "tags": []
   },
   "outputs": [
    {
     "name": "stdout",
     "output_type": "stream",
     "text": [
      "[[0 1 0 0]\n",
      " [0 0 2 0]\n",
      " [0 0 0 3]\n",
      " [0 0 0 0]]\n",
      "\n",
      "\n",
      "[[1 0 0]\n",
      " [0 2 0]\n",
      " [0 0 3]]\n",
      "\n",
      "\n",
      "[[0 0 0 0]\n",
      " [1 0 0 0]\n",
      " [0 2 0 0]\n",
      " [0 0 3 0]]\n"
     ]
    }
   ],
   "source": [
    "# now we use the optional parameter 'k' which helps us create a diagonal with offset.\n",
    "arr = np.array([1,2,3])\n",
    "print(np.diag(arr,k=1))\n",
    "print(\"\\n\")\n",
    "print(np.diag(arr,k=0))\n",
    "print(\"\\n\")\n",
    "print(np.diag(arr,k=-1))"
   ]
  },
  {
   "cell_type": "code",
   "execution_count": 56,
   "id": "28b6e652",
   "metadata": {
    "collapsed": true,
    "execution": {
     "iopub.execute_input": "2025-08-27T09:03:08.999548Z",
     "iopub.status.busy": "2025-08-27T09:03:08.999251Z",
     "iopub.status.idle": "2025-08-27T09:03:09.005391Z",
     "shell.execute_reply": "2025-08-27T09:03:09.004474Z"
    },
    "jupyter": {
     "outputs_hidden": true
    },
    "papermill": {
     "duration": 0.033672,
     "end_time": "2025-08-27T09:03:09.006655",
     "exception": false,
     "start_time": "2025-08-27T09:03:08.972983",
     "status": "completed"
    },
    "tags": []
   },
   "outputs": [
    {
     "name": "stdout",
     "output_type": "stream",
     "text": [
      "[[7 1 5]\n",
      " [5 0 6]\n",
      " [1 0 9]]\n",
      "\n",
      "\n",
      "[7 0 9]\n",
      "[1 6]\n",
      "[5 0]\n"
     ]
    }
   ],
   "source": [
    "# now we can see if we apply the k value on the 2D array, we can extract the values\n",
    "arr = np.random.rand(3,3)\n",
    "new_arr = (arr*10).astype(int)\n",
    "print(new_arr)\n",
    "print(\"\\n\")\n",
    "print(np.diag(new_arr,k=0))\n",
    "print(np.diag(new_arr,k=1))\n",
    "print(np.diag(new_arr,k=-1))"
   ]
  },
  {
   "cell_type": "markdown",
   "id": "200abd65",
   "metadata": {
    "papermill": {
     "duration": 0.024454,
     "end_time": "2025-08-27T09:03:09.055683",
     "exception": false,
     "start_time": "2025-08-27T09:03:09.031229",
     "status": "completed"
    },
    "tags": []
   },
   "source": [
    "# Slicing\n",
    "* It is extracting parts of array instead of the whole array.\n",
    "* syntax: array[start:stop:step]\n",
    "  > start: this is the index from which slicing begins. Default = 0\n",
    "  > stop: index where slicing ends.\n",
    "  > step: interval between elements. here the default value is 1"
   ]
  },
  {
   "cell_type": "code",
   "execution_count": 57,
   "id": "e03a9041",
   "metadata": {
    "collapsed": true,
    "execution": {
     "iopub.execute_input": "2025-08-27T09:03:09.105809Z",
     "iopub.status.busy": "2025-08-27T09:03:09.105246Z",
     "iopub.status.idle": "2025-08-27T09:03:09.109971Z",
     "shell.execute_reply": "2025-08-27T09:03:09.109220Z"
    },
    "jupyter": {
     "outputs_hidden": true
    },
    "papermill": {
     "duration": 0.031258,
     "end_time": "2025-08-27T09:03:09.111283",
     "exception": false,
     "start_time": "2025-08-27T09:03:09.080025",
     "status": "completed"
    },
    "tags": []
   },
   "outputs": [
    {
     "name": "stdout",
     "output_type": "stream",
     "text": [
      "1\n"
     ]
    }
   ],
   "source": [
    "# this is the basic example where we can extract any element from the array using the index.\n",
    "# the index of the first element starts form 0\n",
    "arr = np.array((1,2,3,4,5,6))\n",
    "print(arr[0])"
   ]
  },
  {
   "cell_type": "code",
   "execution_count": 58,
   "id": "9c6bc362",
   "metadata": {
    "collapsed": true,
    "execution": {
     "iopub.execute_input": "2025-08-27T09:03:09.163519Z",
     "iopub.status.busy": "2025-08-27T09:03:09.163227Z",
     "iopub.status.idle": "2025-08-27T09:03:09.167790Z",
     "shell.execute_reply": "2025-08-27T09:03:09.167066Z"
    },
    "jupyter": {
     "outputs_hidden": true
    },
    "papermill": {
     "duration": 0.032743,
     "end_time": "2025-08-27T09:03:09.169102",
     "exception": false,
     "start_time": "2025-08-27T09:03:09.136359",
     "status": "completed"
    },
    "tags": []
   },
   "outputs": [
    {
     "name": "stdout",
     "output_type": "stream",
     "text": [
      "9\n"
     ]
    }
   ],
   "source": [
    "# this is the example of basic operation that we can perform extracting the values.\n",
    "# operation like add, subtract, divide,... can be performed\n",
    "print(arr[3]+arr[4])"
   ]
  },
  {
   "cell_type": "code",
   "execution_count": 59,
   "id": "23431d40",
   "metadata": {
    "collapsed": true,
    "execution": {
     "iopub.execute_input": "2025-08-27T09:03:09.219674Z",
     "iopub.status.busy": "2025-08-27T09:03:09.219382Z",
     "iopub.status.idle": "2025-08-27T09:03:09.225183Z",
     "shell.execute_reply": "2025-08-27T09:03:09.224133Z"
    },
    "jupyter": {
     "outputs_hidden": true
    },
    "papermill": {
     "duration": 0.033178,
     "end_time": "2025-08-27T09:03:09.226729",
     "exception": false,
     "start_time": "2025-08-27T09:03:09.193551",
     "status": "completed"
    },
    "tags": []
   },
   "outputs": [
    {
     "name": "stdout",
     "output_type": "stream",
     "text": [
      "[20 30 40]\n",
      "[10 20 30]\n",
      "[30 40 50 60]\n",
      "[10 30 50]\n",
      "[60 50 40 30 20 10]\n"
     ]
    }
   ],
   "source": [
    "# this is the example of 1D array on which we will perform slicing\n",
    "arr = np.array([10,20,30,40,50,60])\n",
    "print(arr[1:4]) #this will give array from index 1 to index 3. here the idnex 4 in not included\n",
    "print(arr[:3]) #this will give array form index 0 to index 2\n",
    "print(arr[2:]) #this will give array from index 2 to the last index where the last index is included\n",
    "print(arr[::2]) #this will give array for every 2nd element\n",
    "print(arr[::-1]) #this will reverse the array."
   ]
  },
  {
   "cell_type": "code",
   "execution_count": 60,
   "id": "846db131",
   "metadata": {
    "execution": {
     "iopub.execute_input": "2025-08-27T09:03:09.277503Z",
     "iopub.status.busy": "2025-08-27T09:03:09.277224Z",
     "iopub.status.idle": "2025-08-27T09:03:09.283129Z",
     "shell.execute_reply": "2025-08-27T09:03:09.282294Z"
    },
    "papermill": {
     "duration": 0.033005,
     "end_time": "2025-08-27T09:03:09.284450",
     "exception": false,
     "start_time": "2025-08-27T09:03:09.251445",
     "status": "completed"
    },
    "tags": []
   },
   "outputs": [
    {
     "name": "stdout",
     "output_type": "stream",
     "text": [
      "[10 20 30 40 50]\n",
      "[20 70]\n",
      "100\n",
      "[[20 30]\n",
      " [70 80]]\n"
     ]
    }
   ],
   "source": [
    "# this is the example of 2D slicing.\n",
    "arr = np.array([[10,20,30,40,50],[60,70,80,90,100]])\n",
    "print(arr[0,:]) #this will print the first row of the element.\n",
    "print(arr[:,1]) #this will print the second column\n",
    "print(arr[1,4]) #this will locate the element and print it.\n",
    "print(arr[0:2,1:3]) #this will print the sub matrix\n",
    "\n",
    "# note that as the dimensions increase the array slicing parameter increases that is for 3D array it will be arr[0,:,:] this will print the first block."
   ]
  },
  {
   "cell_type": "code",
   "execution_count": 61,
   "id": "c63439d4",
   "metadata": {
    "execution": {
     "iopub.execute_input": "2025-08-27T09:03:09.336073Z",
     "iopub.status.busy": "2025-08-27T09:03:09.335699Z",
     "iopub.status.idle": "2025-08-27T09:03:09.340806Z",
     "shell.execute_reply": "2025-08-27T09:03:09.339961Z"
    },
    "papermill": {
     "duration": 0.032426,
     "end_time": "2025-08-27T09:03:09.342319",
     "exception": false,
     "start_time": "2025-08-27T09:03:09.309893",
     "status": "completed"
    },
    "tags": []
   },
   "outputs": [
    {
     "name": "stdout",
     "output_type": "stream",
     "text": [
      "[[ 10  20  30  40  50]\n",
      " [ 60  70  80  90 100]]\n",
      "50\n"
     ]
    }
   ],
   "source": [
    "# this is the continuation of the above example where we have used the negative indexing to locate the element.\n",
    "# here the -1 referes to the last element.\n",
    "print(arr)\n",
    "print(arr[0,-1])"
   ]
  },
  {
   "cell_type": "code",
   "execution_count": 62,
   "id": "361c8ad8",
   "metadata": {
    "execution": {
     "iopub.execute_input": "2025-08-27T09:03:09.392608Z",
     "iopub.status.busy": "2025-08-27T09:03:09.392074Z",
     "iopub.status.idle": "2025-08-27T09:03:09.397027Z",
     "shell.execute_reply": "2025-08-27T09:03:09.396200Z"
    },
    "papermill": {
     "duration": 0.031552,
     "end_time": "2025-08-27T09:03:09.398336",
     "exception": false,
     "start_time": "2025-08-27T09:03:09.366784",
     "status": "completed"
    },
    "tags": []
   },
   "outputs": [
    {
     "name": "stdout",
     "output_type": "stream",
     "text": [
      "[2 4]\n"
     ]
    }
   ],
   "source": [
    "# this is the example of the step slicing.\n",
    "# here we have set the step parameter to 2 so here we will print the 2nd element till the stop parameter.\n",
    "arr = np.array([1,2,3,4,5,6,7])\n",
    "print(arr[1:5:2])"
   ]
  },
  {
   "cell_type": "code",
   "execution_count": 63,
   "id": "f982e51a",
   "metadata": {
    "execution": {
     "iopub.execute_input": "2025-08-27T09:03:09.449650Z",
     "iopub.status.busy": "2025-08-27T09:03:09.449348Z",
     "iopub.status.idle": "2025-08-27T09:03:09.455089Z",
     "shell.execute_reply": "2025-08-27T09:03:09.453925Z"
    },
    "papermill": {
     "duration": 0.034199,
     "end_time": "2025-08-27T09:03:09.456839",
     "exception": false,
     "start_time": "2025-08-27T09:03:09.422640",
     "status": "completed"
    },
    "tags": []
   },
   "outputs": [
    {
     "name": "stdout",
     "output_type": "stream",
     "text": [
      "[5 6]\n"
     ]
    }
   ],
   "source": [
    "# this is the example of negative slicing where the negative indexing starts form the last element.\n",
    "# that is last element will be -1 then -2 then -3 and so on...\n",
    "arr = np.array([1,2,3,4,5,6,7])\n",
    "print(arr[-3:-1])"
   ]
  },
  {
   "cell_type": "code",
   "execution_count": 64,
   "id": "cd3a7247",
   "metadata": {
    "execution": {
     "iopub.execute_input": "2025-08-27T09:03:09.511226Z",
     "iopub.status.busy": "2025-08-27T09:03:09.510917Z",
     "iopub.status.idle": "2025-08-27T09:03:09.516079Z",
     "shell.execute_reply": "2025-08-27T09:03:09.515141Z"
    },
    "papermill": {
     "duration": 0.034209,
     "end_time": "2025-08-27T09:03:09.517406",
     "exception": false,
     "start_time": "2025-08-27T09:03:09.483197",
     "status": "completed"
    },
    "tags": []
   },
   "outputs": [
    {
     "name": "stdout",
     "output_type": "stream",
     "text": [
      "[70 80 90]\n"
     ]
    }
   ],
   "source": [
    "arr = np.array([[10,20,30,40,50],[60,70,80,90,100]])\n",
    "print(arr[1,1:4])"
   ]
  },
  {
   "cell_type": "code",
   "execution_count": 65,
   "id": "94888501",
   "metadata": {
    "execution": {
     "iopub.execute_input": "2025-08-27T09:03:09.569760Z",
     "iopub.status.busy": "2025-08-27T09:03:09.569135Z",
     "iopub.status.idle": "2025-08-27T09:03:09.576689Z",
     "shell.execute_reply": "2025-08-27T09:03:09.575640Z"
    },
    "papermill": {
     "duration": 0.035831,
     "end_time": "2025-08-27T09:03:09.578603",
     "exception": false,
     "start_time": "2025-08-27T09:03:09.542772",
     "status": "completed"
    },
    "tags": []
   },
   "outputs": [
    {
     "name": "stdout",
     "output_type": "stream",
     "text": [
      "Arr original before[1 2 3 4 5]\n",
      "copy of original [1 2 3 4 5]\n",
      "Arr original after[42  2  3  4  5]\n",
      "copy after [1 2 3 4 5]\n"
     ]
    }
   ],
   "source": [
    "arr = np.array([1,2,3,4,5])\n",
    "print(f\"Arr original before{arr}\")\n",
    "\n",
    "x = arr.copy()\n",
    "print(f\"copy of original {arr}\")\n",
    "\n",
    "arr[0] = 42\n",
    "print(f\"Arr original after{arr}\")\n",
    "print(f\"copy after {x}\")"
   ]
  },
  {
   "cell_type": "code",
   "execution_count": 66,
   "id": "0b695986",
   "metadata": {
    "execution": {
     "iopub.execute_input": "2025-08-27T09:03:09.649336Z",
     "iopub.status.busy": "2025-08-27T09:03:09.648896Z",
     "iopub.status.idle": "2025-08-27T09:03:09.656612Z",
     "shell.execute_reply": "2025-08-27T09:03:09.655585Z"
    },
    "papermill": {
     "duration": 0.04401,
     "end_time": "2025-08-27T09:03:09.658482",
     "exception": false,
     "start_time": "2025-08-27T09:03:09.614472",
     "status": "completed"
    },
    "tags": []
   },
   "outputs": [
    {
     "name": "stdout",
     "output_type": "stream",
     "text": [
      "Arr original before[1 2 3 4 5]\n",
      "view of original [1 2 3 4 5]\n",
      "Arr original after[42  2  3  4  5]\n",
      "view after [42  2  3  4  5]\n"
     ]
    }
   ],
   "source": [
    "arr = np.array([1,2,3,4,5])\n",
    "print(f\"Arr original before{arr}\")\n",
    "\n",
    "x = arr.view()\n",
    "print(f\"view of original {arr}\")\n",
    "\n",
    "arr[0] = 42\n",
    "print(f\"Arr original after{arr}\")\n",
    "print(f\"view after {x}\")"
   ]
  },
  {
   "cell_type": "code",
   "execution_count": 67,
   "id": "54c236de",
   "metadata": {
    "execution": {
     "iopub.execute_input": "2025-08-27T09:03:09.711579Z",
     "iopub.status.busy": "2025-08-27T09:03:09.711317Z",
     "iopub.status.idle": "2025-08-27T09:03:09.717078Z",
     "shell.execute_reply": "2025-08-27T09:03:09.716191Z"
    },
    "papermill": {
     "duration": 0.033155,
     "end_time": "2025-08-27T09:03:09.718477",
     "exception": false,
     "start_time": "2025-08-27T09:03:09.685322",
     "status": "completed"
    },
    "tags": []
   },
   "outputs": [
    {
     "name": "stdout",
     "output_type": "stream",
     "text": [
      "Arr original before[1 2 3 4 5]\n",
      "copy of original [1 2 3 4 5]\n",
      "Arr original after[42  2  3  4  5]\n",
      "copy after [42  2  3  4  5]\n"
     ]
    }
   ],
   "source": [
    "arr = np.array([1,2,3,4,5])\n",
    "print(f\"Arr original before{arr}\")\n",
    "\n",
    "x = arr.view()\n",
    "print(f\"copy of original {arr}\")\n",
    "\n",
    "x[0] = 42\n",
    "print(f\"Arr original after{arr}\")\n",
    "print(f\"copy after {x}\")"
   ]
  },
  {
   "cell_type": "code",
   "execution_count": 68,
   "id": "cbdac2ec",
   "metadata": {
    "execution": {
     "iopub.execute_input": "2025-08-27T09:03:09.770742Z",
     "iopub.status.busy": "2025-08-27T09:03:09.770460Z",
     "iopub.status.idle": "2025-08-27T09:03:09.776182Z",
     "shell.execute_reply": "2025-08-27T09:03:09.775297Z"
    },
    "papermill": {
     "duration": 0.033592,
     "end_time": "2025-08-27T09:03:09.777633",
     "exception": false,
     "start_time": "2025-08-27T09:03:09.744041",
     "status": "completed"
    },
    "tags": []
   },
   "outputs": [
    {
     "name": "stdout",
     "output_type": "stream",
     "text": [
      "base attribute for copy is: None\n",
      "base attribute for view is: [1 2 3 4 5]\n"
     ]
    }
   ],
   "source": [
    "arr = np.array([1,2,3,4,5])\n",
    "\n",
    "x = arr.copy()\n",
    "y = arr.view()\n",
    "\n",
    "print(f\"base attribute for copy is: {x.base}\")\n",
    "print(f\"base attribute for view is: {y.base}\")"
   ]
  },
  {
   "cell_type": "code",
   "execution_count": 69,
   "id": "656fe559",
   "metadata": {
    "execution": {
     "iopub.execute_input": "2025-08-27T09:03:09.830541Z",
     "iopub.status.busy": "2025-08-27T09:03:09.830285Z",
     "iopub.status.idle": "2025-08-27T09:03:09.835198Z",
     "shell.execute_reply": "2025-08-27T09:03:09.834278Z"
    },
    "papermill": {
     "duration": 0.032606,
     "end_time": "2025-08-27T09:03:09.836661",
     "exception": false,
     "start_time": "2025-08-27T09:03:09.804055",
     "status": "completed"
    },
    "tags": []
   },
   "outputs": [
    {
     "name": "stdout",
     "output_type": "stream",
     "text": [
      "(2, 4)\n"
     ]
    }
   ],
   "source": [
    "arr = np.array([[1,2,3,4],[5,6,7,8]])\n",
    "print(arr.shape)"
   ]
  },
  {
   "cell_type": "code",
   "execution_count": 70,
   "id": "34c8de9c",
   "metadata": {
    "execution": {
     "iopub.execute_input": "2025-08-27T09:03:09.888789Z",
     "iopub.status.busy": "2025-08-27T09:03:09.888485Z",
     "iopub.status.idle": "2025-08-27T09:03:09.893543Z",
     "shell.execute_reply": "2025-08-27T09:03:09.892511Z"
    },
    "papermill": {
     "duration": 0.033088,
     "end_time": "2025-08-27T09:03:09.895121",
     "exception": false,
     "start_time": "2025-08-27T09:03:09.862033",
     "status": "completed"
    },
    "tags": []
   },
   "outputs": [
    {
     "name": "stdout",
     "output_type": "stream",
     "text": [
      "(1, 1, 1, 1, 4)\n"
     ]
    }
   ],
   "source": [
    "arr = np.array([1,2,3,4],ndmin=5)\n",
    "print(arr.shape)"
   ]
  },
  {
   "cell_type": "code",
   "execution_count": 71,
   "id": "62b30f3e",
   "metadata": {
    "execution": {
     "iopub.execute_input": "2025-08-27T09:03:09.948902Z",
     "iopub.status.busy": "2025-08-27T09:03:09.948577Z",
     "iopub.status.idle": "2025-08-27T09:03:09.953758Z",
     "shell.execute_reply": "2025-08-27T09:03:09.952921Z"
    },
    "papermill": {
     "duration": 0.033681,
     "end_time": "2025-08-27T09:03:09.955327",
     "exception": false,
     "start_time": "2025-08-27T09:03:09.921646",
     "status": "completed"
    },
    "tags": []
   },
   "outputs": [
    {
     "name": "stdout",
     "output_type": "stream",
     "text": [
      "[[ 1  2  3  4  5  6]\n",
      " [ 7  8  9 10 11 12]]\n"
     ]
    }
   ],
   "source": [
    "arr = np.array([1,2,3,4,5,6,7,8,9,10,11,12])\n",
    "newarr = arr.reshape(2,6)\n",
    "print(newarr)"
   ]
  },
  {
   "cell_type": "code",
   "execution_count": 72,
   "id": "28e09c1a",
   "metadata": {
    "execution": {
     "iopub.execute_input": "2025-08-27T09:03:10.008005Z",
     "iopub.status.busy": "2025-08-27T09:03:10.007639Z",
     "iopub.status.idle": "2025-08-27T09:03:10.013013Z",
     "shell.execute_reply": "2025-08-27T09:03:10.012019Z"
    },
    "papermill": {
     "duration": 0.033441,
     "end_time": "2025-08-27T09:03:10.014356",
     "exception": false,
     "start_time": "2025-08-27T09:03:09.980915",
     "status": "completed"
    },
    "tags": []
   },
   "outputs": [
    {
     "name": "stdout",
     "output_type": "stream",
     "text": [
      "[[[ 1  2  3]\n",
      "  [ 4  5  6]]\n",
      "\n",
      " [[ 7  8  9]\n",
      "  [10 11 12]]]\n"
     ]
    }
   ],
   "source": [
    "arr = np.array([1,2,3,4,5,6,7,8,9,10,11,12])\n",
    "newarr = arr.reshape(2,2,3)\n",
    "print(newarr)"
   ]
  },
  {
   "cell_type": "code",
   "execution_count": 73,
   "id": "f6a220f7",
   "metadata": {
    "execution": {
     "iopub.execute_input": "2025-08-27T09:03:10.067314Z",
     "iopub.status.busy": "2025-08-27T09:03:10.067036Z",
     "iopub.status.idle": "2025-08-27T09:03:10.072195Z",
     "shell.execute_reply": "2025-08-27T09:03:10.071149Z"
    },
    "papermill": {
     "duration": 0.033098,
     "end_time": "2025-08-27T09:03:10.073517",
     "exception": false,
     "start_time": "2025-08-27T09:03:10.040419",
     "status": "completed"
    },
    "tags": []
   },
   "outputs": [
    {
     "name": "stdout",
     "output_type": "stream",
     "text": [
      "[ 1  2  3  4  5  6  7  8  9 10 11 12]\n"
     ]
    }
   ],
   "source": [
    "arr = np.array([1,2,3,4,5,6,7,8,9,10,11,12])\n",
    "print(arr.reshape(2,6).base)"
   ]
  },
  {
   "cell_type": "code",
   "execution_count": 74,
   "id": "c1cbc76c",
   "metadata": {
    "execution": {
     "iopub.execute_input": "2025-08-27T09:03:10.127116Z",
     "iopub.status.busy": "2025-08-27T09:03:10.126691Z",
     "iopub.status.idle": "2025-08-27T09:03:10.133742Z",
     "shell.execute_reply": "2025-08-27T09:03:10.132599Z"
    },
    "papermill": {
     "duration": 0.035614,
     "end_time": "2025-08-27T09:03:10.135411",
     "exception": false,
     "start_time": "2025-08-27T09:03:10.099797",
     "status": "completed"
    },
    "tags": []
   },
   "outputs": [
    {
     "name": "stdout",
     "output_type": "stream",
     "text": [
      "[[ 10  20  30  40  50]\n",
      " [ 60  70  80  90 100]]\n",
      "[ 10  20  30  40  50  60  70  80  90 100]\n"
     ]
    }
   ],
   "source": [
    "arr = np.array([[10,20,30,40,50],[60,70,80,90,100]])\n",
    "print(arr)\n",
    "\n",
    "newarr = arr.reshape(-1)\n",
    "print(newarr)"
   ]
  }
 ],
 "metadata": {
  "kaggle": {
   "accelerator": "none",
   "dataSources": [],
   "dockerImageVersionId": 31089,
   "isGpuEnabled": false,
   "isInternetEnabled": false,
   "language": "python",
   "sourceType": "notebook"
  },
  "kernelspec": {
   "display_name": "Python 3",
   "language": "python",
   "name": "python3"
  },
  "language_info": {
   "codemirror_mode": {
    "name": "ipython",
    "version": 3
   },
   "file_extension": ".py",
   "mimetype": "text/x-python",
   "name": "python",
   "nbconvert_exporter": "python",
   "pygments_lexer": "ipython3",
   "version": "3.11.13"
  },
  "papermill": {
   "default_parameters": {},
   "duration": 15.775367,
   "end_time": "2025-08-27T09:03:10.584309",
   "environment_variables": {},
   "exception": null,
   "input_path": "__notebook__.ipynb",
   "output_path": "__notebook__.ipynb",
   "parameters": {},
   "start_time": "2025-08-27T09:02:54.808942",
   "version": "2.6.0"
  }
 },
 "nbformat": 4,
 "nbformat_minor": 5
}
